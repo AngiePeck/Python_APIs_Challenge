{
 "cells": [
  {
   "cell_type": "markdown",
   "metadata": {},
   "source": [
    "# WeatherPy\n",
    "----\n",
    "\n",
    "#### Note\n",
    "* Instructions have been included for each segment. You do not have to follow them exactly, but they are included to help you think through the steps."
   ]
  },
  {
   "cell_type": "code",
   "execution_count": 11,
   "metadata": {
    "scrolled": true
   },
   "outputs": [],
   "source": [
    "# Dependencies and Setup\n",
    "import matplotlib.pyplot as plt\n",
    "import pandas as pd\n",
    "import numpy as np\n",
    "import requests\n",
    "import time\n",
    "from scipy.stats import linregress\n",
    "\n",
    "# Import API key\n",
    "from api_keys import weather_api_key"
   ]
  },
  {
   "cell_type": "code",
   "execution_count": 12,
   "metadata": {},
   "outputs": [],
   "source": [
    "# Incorporated citipy to determine city based on latitude and longitude\n",
    "from citipy import citipy\n",
    "\n",
    "# Output File (CSV)\n",
    "output_data_file = \"cities.csv\"\n",
    "\n",
    "# Range of latitudes and longitudes\n",
    "lat_range = (-90, 90)\n",
    "lng_range = (-180, 180)"
   ]
  },
  {
   "cell_type": "markdown",
   "metadata": {},
   "source": [
    "## Generate Cities List"
   ]
  },
  {
   "cell_type": "code",
   "execution_count": 13,
   "metadata": {},
   "outputs": [
    {
     "data": {
      "text/plain": [
       "587"
      ]
     },
     "execution_count": 13,
     "metadata": {},
     "output_type": "execute_result"
    }
   ],
   "source": [
    "# List for holding lat_lngs and cities\n",
    "lat_lngs = []\n",
    "cities = []\n",
    "\n",
    "# Create a set of random lat and lng combinations\n",
    "lats = np.random.uniform(low=-90.000, high=90.000, size=1500)\n",
    "lngs = np.random.uniform(low=-180.000, high=180.000, size=1500)\n",
    "lat_lngs = zip(lats, lngs)\n",
    "\n",
    "# Identify nearest city for each lat, lng combination\n",
    "for lat_lng in lat_lngs:\n",
    "    city = citipy.nearest_city(lat_lng[0], lat_lng[1]).city_name\n",
    "    \n",
    "    # If the city is unique, then add it to a our cities list\n",
    "    if city not in cities:\n",
    "        cities.append(city)\n",
    "\n",
    "# Print the city count to confirm sufficient count\n",
    "len(cities)"
   ]
  },
  {
   "cell_type": "code",
   "execution_count": 14,
   "metadata": {},
   "outputs": [
    {
     "data": {
      "text/html": [
       "<div>\n",
       "<style scoped>\n",
       "    .dataframe tbody tr th:only-of-type {\n",
       "        vertical-align: middle;\n",
       "    }\n",
       "\n",
       "    .dataframe tbody tr th {\n",
       "        vertical-align: top;\n",
       "    }\n",
       "\n",
       "    .dataframe thead th {\n",
       "        text-align: right;\n",
       "    }\n",
       "</style>\n",
       "<table border=\"1\" class=\"dataframe\">\n",
       "  <thead>\n",
       "    <tr style=\"text-align: right;\">\n",
       "      <th></th>\n",
       "      <th>0</th>\n",
       "    </tr>\n",
       "  </thead>\n",
       "  <tbody>\n",
       "    <tr>\n",
       "      <td>0</td>\n",
       "      <td>kidal</td>\n",
       "    </tr>\n",
       "    <tr>\n",
       "      <td>1</td>\n",
       "      <td>bluff</td>\n",
       "    </tr>\n",
       "    <tr>\n",
       "      <td>2</td>\n",
       "      <td>new norfolk</td>\n",
       "    </tr>\n",
       "    <tr>\n",
       "      <td>3</td>\n",
       "      <td>ca mau</td>\n",
       "    </tr>\n",
       "    <tr>\n",
       "      <td>4</td>\n",
       "      <td>yellowknife</td>\n",
       "    </tr>\n",
       "    <tr>\n",
       "      <td>...</td>\n",
       "      <td>...</td>\n",
       "    </tr>\n",
       "    <tr>\n",
       "      <td>582</td>\n",
       "      <td>valleyview</td>\n",
       "    </tr>\n",
       "    <tr>\n",
       "      <td>583</td>\n",
       "      <td>haibowan</td>\n",
       "    </tr>\n",
       "    <tr>\n",
       "      <td>584</td>\n",
       "      <td>chimbote</td>\n",
       "    </tr>\n",
       "    <tr>\n",
       "      <td>585</td>\n",
       "      <td>oil city</td>\n",
       "    </tr>\n",
       "    <tr>\n",
       "      <td>586</td>\n",
       "      <td>mikhaylovka</td>\n",
       "    </tr>\n",
       "  </tbody>\n",
       "</table>\n",
       "<p>587 rows × 1 columns</p>\n",
       "</div>"
      ],
      "text/plain": [
       "               0\n",
       "0          kidal\n",
       "1          bluff\n",
       "2    new norfolk\n",
       "3         ca mau\n",
       "4    yellowknife\n",
       "..           ...\n",
       "582   valleyview\n",
       "583     haibowan\n",
       "584     chimbote\n",
       "585     oil city\n",
       "586  mikhaylovka\n",
       "\n",
       "[587 rows x 1 columns]"
      ]
     },
     "execution_count": 14,
     "metadata": {},
     "output_type": "execute_result"
    }
   ],
   "source": [
    "#make a dataframe to hold the city weather information\n",
    "weather_df = pd.DataFrame(cities)\n",
    "weather_df"
   ]
  },
  {
   "cell_type": "markdown",
   "metadata": {},
   "source": [
    "### Perform API Calls\n",
    "* Perform a weather check on each city using a series of successive API calls.\n",
    "* Include a print log of each city as it'sbeing processed (with the city number and city name).\n"
   ]
  },
  {
   "cell_type": "code",
   "execution_count": 15,
   "metadata": {},
   "outputs": [
    {
     "data": {
      "text/plain": [
       "'http://api.openweathermap.org/data/2.5/weather?appid=b20144e5eabe2a61daa117f61ac4be5c&units=metric&q='"
      ]
     },
     "execution_count": 15,
     "metadata": {},
     "output_type": "execute_result"
    }
   ],
   "source": [
    "url = \"http://api.openweathermap.org/data/2.5/weather?\"\n",
    "units = \"metric\"\n",
    "\n",
    "# Build partial query URL\n",
    "query_url = f\"{url}appid={weather_api_key}&units={units}&q=\"\n",
    "query_url"
   ]
  },
  {
   "cell_type": "markdown",
   "metadata": {},
   "source": [
    "### Convert Raw Data to DataFrame\n",
    "* Export the city data into a .csv.\n",
    "* Display the DataFrame"
   ]
  },
  {
   "cell_type": "code",
   "execution_count": 16,
   "metadata": {
    "scrolled": true
   },
   "outputs": [
    {
     "name": "stdout",
     "output_type": "stream",
     "text": [
      "Processing record 1, kidal\n",
      "Processing record 2, bluff\n",
      "Processing record 3, new norfolk\n",
      "Processing record 4, ca mau\n",
      "Processing record 5, yellowknife\n",
      "Processing record 6, anadyr\n",
      "Processing record 7, sungaipenuh\n",
      "Processing record 8, bethel\n",
      "Missing result...skipping.\n",
      "Processing record 9, jalu\n",
      "Processing record 10, rikitea\n",
      "Processing record 11, sokyryany\n",
      "Processing record 12, hermanus\n",
      "Processing record 13, iqaluit\n",
      "Processing record 14, alofi\n",
      "Processing record 15, si bun ruang\n",
      "Processing record 16, airai\n",
      "Processing record 17, brake\n",
      "Processing record 18, vaini\n",
      "Processing record 19, port alfred\n",
      "Processing record 20, la ronge\n",
      "Processing record 21, provideniya\n",
      "Processing record 22, dzhubga\n",
      "Processing record 23, batemans bay\n",
      "Processing record 24, bengkulu\n",
      "Processing record 25, puerto ayora\n",
      "Processing record 26, butaritari\n",
      "Processing record 27, busselton\n",
      "Processing record 28, talnakh\n",
      "Processing record 29, jamestown\n",
      "Missing result...skipping.\n",
      "Processing record 30, upernavik\n",
      "Processing record 31, ketchikan\n",
      "Processing record 32, codrington\n",
      "Processing record 33, boende\n",
      "Processing record 34, hithadhoo\n",
      "Processing record 35, flinders\n",
      "Processing record 36, feijo\n",
      "Processing record 37, georgetown\n",
      "Processing record 38, ushuaia\n",
      "Processing record 39, bathsheba\n",
      "Processing record 40, strezhevoy\n",
      "Processing record 41, acari\n",
      "Processing record 42, strai\n",
      "Processing record 43, kodiak\n",
      "Processing record 44, valparaiso\n",
      "Processing record 45, thompson\n",
      "Missing result...skipping.\n",
      "Processing record 46, saldanha\n",
      "Processing record 47, sofiyivka\n",
      "Processing record 48, zambezi\n",
      "Processing record 49, leh\n",
      "Processing record 50, tuktoyaktuk\n",
      "Processing record 51, slidell\n",
      "Processing record 52, atuona\n",
      "Processing record 53, south lake tahoe\n",
      "Processing record 54, luderitz\n",
      "Processing record 55, san patricio\n",
      "Processing record 56, ayan\n",
      "Processing record 57, cape town\n",
      "Processing record 58, chokurdakh\n",
      "Missing result...skipping.\n",
      "Processing record 59, bichura\n",
      "Processing record 60, khatanga\n",
      "Processing record 61, alice springs\n",
      "Processing record 62, saskylakh\n",
      "Processing record 63, hilo\n",
      "Missing result...skipping.\n",
      "Processing record 64, siguiri\n",
      "Processing record 65, teahupoo\n",
      "Processing record 66, pimentel\n",
      "Processing record 67, dwarka\n",
      "Processing record 68, nanortalik\n",
      "Missing result...skipping.\n",
      "Processing record 69, avarua\n",
      "Missing result...skipping.\n",
      "Processing record 70, qaanaaq\n",
      "Processing record 71, lorengau\n",
      "Missing result...skipping.\n",
      "Processing record 72, sulangan\n",
      "Processing record 73, te anau\n",
      "Missing result...skipping.\n",
      "Processing record 74, salair\n",
      "Processing record 75, hofn\n",
      "Processing record 76, punta arenas\n",
      "Processing record 77, kruisfontein\n",
      "Processing record 78, las vegas\n",
      "Processing record 79, omsukchan\n",
      "Processing record 80, norman wells\n",
      "Processing record 81, mataura\n",
      "Processing record 82, vila velha\n",
      "Missing result...skipping.\n",
      "Processing record 83, ust-kuyga\n",
      "Processing record 84, bredasdorp\n",
      "Processing record 85, albany\n",
      "Processing record 86, lebu\n",
      "Processing record 87, sao joao da barra\n",
      "Missing result...skipping.\n",
      "Processing record 88, ayagoz\n",
      "Processing record 89, savannah bight\n",
      "Missing result...skipping.\n",
      "Processing record 90, poum\n",
      "Processing record 91, bouna\n",
      "Processing record 92, aranos\n",
      "Processing record 93, east london\n",
      "Processing record 94, kaitangata\n",
      "Processing record 95, labuhan\n",
      "Processing record 96, nata\n",
      "Processing record 97, kloulklubed\n",
      "Processing record 98, dikson\n",
      "Processing record 99, cherskiy\n",
      "Missing result...skipping.\n",
      "Processing record 100, pisco\n",
      "Processing record 101, aquiraz\n",
      "Processing record 102, sinnamary\n",
      "Processing record 103, perelyub\n",
      "Processing record 104, zhangye\n",
      "Processing record 105, ponta delgada\n",
      "Processing record 106, kitimat\n",
      "Processing record 107, chincha alta\n",
      "Processing record 108, carnarvon\n",
      "Processing record 109, tankara\n",
      "Processing record 110, la troncal\n",
      "Processing record 111, asau\n",
      "Processing record 112, margate\n",
      "Processing record 113, port elizabeth\n",
      "Processing record 114, pevek\n",
      "Processing record 115, iquique\n",
      "Processing record 116, hobart\n",
      "Processing record 117, vila do maio\n",
      "Processing record 118, mahebourg\n",
      "Processing record 119, de aar\n",
      "Processing record 120, batagay\n",
      "Processing record 121, berestechko\n",
      "Missing result...skipping.\n",
      "Processing record 122, nikolskoye\n",
      "Processing record 123, ancud\n",
      "Processing record 124, platanos\n",
      "Processing record 125, kapaa\n",
      "Processing record 126, samagaltay\n",
      "Missing result...skipping.\n",
      "Processing record 127, rafai\n",
      "Processing record 128, port-cartier\n",
      "Processing record 129, vila franca do campo\n",
      "Processing record 130, manokwari\n",
      "Processing record 131, antsohihy\n",
      "Missing result...skipping.\n",
      "Processing record 132, boyolangu\n",
      "Processing record 133, mar del plata\n",
      "Processing record 134, casa grande\n",
      "Processing record 135, aksha\n",
      "Processing record 136, ndjole\n",
      "Missing result...skipping.\n",
      "Missing result...skipping.\n",
      "Processing record 137, saint-philippe\n",
      "Processing record 138, atambua\n",
      "Processing record 139, geraldton\n",
      "Processing record 140, edd\n",
      "Processing record 141, egvekinot\n",
      "Processing record 142, dabat\n",
      "Processing record 143, kiunga\n",
      "Processing record 144, opuwo\n",
      "Processing record 145, zabol\n",
      "Processing record 146, pangkalanbuun\n",
      "Processing record 147, kavieng\n",
      "Missing result...skipping.\n",
      "Processing record 148, nome\n",
      "Processing record 149, beringovskiy\n",
      "Processing record 150, naze\n",
      "Processing record 151, bako\n",
      "Processing record 152, ribeira grande\n",
      "Missing result...skipping.\n",
      "Processing record 153, castro\n",
      "Processing record 154, palmer\n",
      "Processing record 155, chuy\n",
      "Processing record 156, banda aceh\n",
      "Processing record 157, faya\n",
      "Missing result...skipping.\n",
      "Processing record 158, tasiilaq\n",
      "Processing record 159, sa kaeo\n",
      "Processing record 160, baker city\n",
      "Processing record 161, hirara\n",
      "Processing record 162, saint-francois\n",
      "Processing record 163, arraial do cabo\n",
      "Processing record 164, tiksi\n",
      "Processing record 165, grand gaube\n",
      "Processing record 166, isangel\n",
      "Processing record 167, comodoro rivadavia\n",
      "Processing record 168, leningradskiy\n",
      "Processing record 169, victoria\n",
      "Processing record 170, tura\n",
      "Processing record 171, escanaba\n",
      "Processing record 172, kavaratti\n",
      "Processing record 173, mackenzie\n",
      "Processing record 174, el vigia\n",
      "Missing result...skipping.\n",
      "Processing record 175, bambous virieux\n",
      "Processing record 176, sabang\n",
      "Processing record 177, xuddur\n",
      "Processing record 178, salinas\n",
      "Processing record 179, rehoboth\n",
      "Processing record 180, ilulissat\n",
      "Processing record 181, marmarion\n",
      "Processing record 182, wahiawa\n",
      "Processing record 183, fort nelson\n",
      "Processing record 184, raudeberg\n",
      "Processing record 185, rocha\n",
      "Processing record 186, morehead\n",
      "Processing record 187, husavik\n",
      "Processing record 188, constitucion\n",
      "Processing record 189, surt\n",
      "Processing record 190, catalina\n",
      "Processing record 191, vao\n",
      "Processing record 192, falam\n",
      "Processing record 193, mantua\n",
      "Processing record 194, north bend\n",
      "Processing record 195, mirnyy\n",
      "Processing record 196, makhachkala\n",
      "Processing record 197, souillac\n",
      "Processing record 198, umm kaddadah\n",
      "Processing record 199, bridlington\n",
      "Processing record 200, vanavara\n",
      "Processing record 201, puerto penasco\n",
      "Processing record 202, sokoni\n",
      "Processing record 203, initao\n",
      "Processing record 204, ostrovnoy\n",
      "Processing record 205, saint-joseph\n",
      "Processing record 206, ahipara\n",
      "Processing record 207, kyabe\n",
      "Processing record 208, chernyshevskiy\n",
      "Processing record 209, do gonbadan\n",
      "Processing record 210, batsfjord\n",
      "Processing record 211, teguise\n",
      "Processing record 212, pangai\n",
      "Processing record 213, slantsy\n",
      "Processing record 214, hervey bay\n",
      "Processing record 215, hasaki\n",
      "Processing record 216, ponta do sol\n",
      "Processing record 217, mwanza\n",
      "Processing record 218, marystown\n",
      "Processing record 219, inirida\n",
      "Processing record 220, bakel\n",
      "Processing record 221, racine\n",
      "Processing record 222, makarov\n",
      "Processing record 223, ambon\n",
      "Processing record 224, semenivka\n",
      "Processing record 225, popondetta\n",
      "Missing result...skipping.\n",
      "Processing record 226, broome\n",
      "Processing record 227, pak phanang\n",
      "Processing record 228, bam\n",
      "Processing record 229, cruzeiro do sul\n",
      "Processing record 230, gat\n",
      "Processing record 231, matay\n",
      "Processing record 232, cabedelo\n",
      "Processing record 233, sao filipe\n",
      "Processing record 234, rottenmann\n",
      "Processing record 235, boda\n",
      "Missing result...skipping.\n",
      "Processing record 236, praia da vitoria\n",
      "Processing record 237, kourou\n",
      "Processing record 238, kudat\n"
     ]
    },
    {
     "name": "stdout",
     "output_type": "stream",
     "text": [
      "Processing record 239, kathu\n",
      "Processing record 240, iclod\n",
      "Processing record 241, cidreira\n",
      "Processing record 242, soyo\n",
      "Processing record 243, biak\n",
      "Processing record 244, waverly\n",
      "Processing record 245, itarema\n",
      "Processing record 246, syamzha\n",
      "Processing record 247, hambantota\n",
      "Processing record 248, lubango\n",
      "Processing record 249, southampton\n",
      "Processing record 250, tautira\n",
      "Processing record 251, kaeo\n",
      "Processing record 252, bandarbeyla\n",
      "Processing record 253, mandalgovi\n",
      "Processing record 254, tilichiki\n",
      "Processing record 255, tessalit\n",
      "Processing record 256, camana\n",
      "Processing record 257, bose\n",
      "Processing record 258, avera\n",
      "Processing record 259, cabo san lucas\n",
      "Missing result...skipping.\n",
      "Processing record 260, port hardy\n",
      "Processing record 261, los llanos de aridane\n",
      "Processing record 262, samarai\n",
      "Processing record 263, yar-sale\n",
      "Processing record 264, seoul\n",
      "Processing record 265, hami\n",
      "Processing record 266, torbay\n",
      "Processing record 267, allapalli\n",
      "Processing record 268, cameta\n",
      "Processing record 269, kalmunai\n",
      "Processing record 270, waitati\n",
      "Processing record 271, varnamo\n",
      "Processing record 272, faanui\n",
      "Processing record 273, buinsk\n",
      "Processing record 274, bonavista\n",
      "Processing record 275, rudarpur\n",
      "Processing record 276, tatarsk\n",
      "Processing record 277, peniche\n",
      "Processing record 278, salvador\n",
      "Processing record 279, touros\n",
      "Processing record 280, itoman\n",
      "Processing record 281, harper\n",
      "Processing record 282, belyy yar\n",
      "Processing record 283, awbari\n",
      "Missing result...skipping.\n",
      "Processing record 284, flin flon\n",
      "Processing record 285, baruun-urt\n",
      "Processing record 286, singaraja\n",
      "Processing record 287, barrow\n",
      "Processing record 288, nishihara\n",
      "Processing record 289, baikunthpur\n",
      "Processing record 290, mecca\n",
      "Processing record 291, longyearbyen\n",
      "Processing record 292, sarangani\n",
      "Processing record 293, maraa\n",
      "Processing record 294, siocon\n",
      "Processing record 295, kudahuvadhoo\n",
      "Processing record 296, pathein\n",
      "Processing record 297, bubaque\n",
      "Processing record 298, ulladulla\n",
      "Processing record 299, san cristobal\n",
      "Processing record 300, kapuskasing\n",
      "Processing record 301, havre-saint-pierre\n",
      "Processing record 302, izumo\n",
      "Processing record 303, andenes\n",
      "Processing record 304, saint-augustin\n",
      "Processing record 305, saint-pierre\n",
      "Processing record 306, doha\n",
      "Processing record 307, huarmey\n",
      "Processing record 308, tete\n",
      "Processing record 309, sao cristovao\n",
      "Processing record 310, bima\n",
      "Processing record 311, klaksvik\n",
      "Processing record 312, moussoro\n",
      "Processing record 313, aurillac\n",
      "Processing record 314, breda\n",
      "Processing record 315, qaqortoq\n",
      "Processing record 316, bilhaur\n",
      "Processing record 317, petropavlovsk-kamchatskiy\n",
      "Processing record 318, inta\n",
      "Processing record 319, kampene\n",
      "Processing record 320, yarkovo\n",
      "Processing record 321, fortuna\n",
      "Processing record 322, severo-kurilsk\n",
      "Processing record 323, qasigiannguit\n",
      "Processing record 324, derzhavinsk\n",
      "Processing record 325, dalby\n",
      "Processing record 326, kralendijk\n",
      "Processing record 327, tual\n",
      "Processing record 328, nicosia\n",
      "Processing record 329, mount gambier\n",
      "Processing record 330, dudinka\n",
      "Processing record 331, mahibadhoo\n",
      "Processing record 332, manoel urbano\n",
      "Processing record 333, katsuura\n",
      "Processing record 334, osterburg\n",
      "Processing record 335, zinder\n",
      "Processing record 336, batagay-alyta\n",
      "Processing record 337, kawalu\n",
      "Processing record 338, marsa matruh\n",
      "Processing record 339, port blair\n",
      "Processing record 340, tommot\n",
      "Processing record 341, saint george\n",
      "Processing record 342, gimli\n",
      "Processing record 343, kudymkar\n",
      "Processing record 344, bikaner\n",
      "Processing record 345, kemise\n",
      "Processing record 346, richards bay\n",
      "Processing record 347, santa cruz\n",
      "Processing record 348, mitsamiouli\n",
      "Processing record 349, fairbanks\n",
      "Missing result...skipping.\n",
      "Processing record 350, north adams\n",
      "Processing record 351, buraydah\n",
      "Processing record 352, nortelandia\n",
      "Processing record 353, rio claro\n",
      "Missing result...skipping.\n",
      "Processing record 354, gigmoto\n",
      "Processing record 355, albion\n",
      "Processing record 356, skelleftea\n",
      "Processing record 357, nouadhibou\n",
      "Processing record 358, laguna\n",
      "Processing record 359, carroll\n",
      "Processing record 360, esmeraldas\n",
      "Processing record 361, kadom\n",
      "Processing record 362, mackay\n",
      "Processing record 363, shingu\n",
      "Processing record 364, kibala\n",
      "Processing record 365, lima\n",
      "Missing result...skipping.\n",
      "Processing record 366, kuala terengganu\n",
      "Processing record 367, padang\n",
      "Processing record 368, hamilton\n",
      "Processing record 369, dossor\n",
      "Processing record 370, nurota\n",
      "Processing record 371, honiara\n",
      "Processing record 372, penzance\n",
      "Processing record 373, bairiki\n",
      "Processing record 374, korla\n",
      "Processing record 375, thomaston\n",
      "Missing result...skipping.\n",
      "Processing record 376, senanga\n",
      "Processing record 377, san quintin\n",
      "Processing record 378, jumla\n",
      "Processing record 379, meulaboh\n",
      "Processing record 380, aykhal\n",
      "Processing record 381, gombong\n",
      "Processing record 382, yueyang\n",
      "Processing record 383, bollnas\n",
      "Processing record 384, buala\n",
      "Processing record 385, luwuk\n",
      "Processing record 386, houston\n",
      "Processing record 387, japura\n",
      "Processing record 388, mega\n",
      "Processing record 389, kafanchan\n",
      "Processing record 390, brae\n",
      "Processing record 391, shakawe\n",
      "Processing record 392, ilo\n",
      "Processing record 393, maldonado\n",
      "Processing record 394, ulundi\n",
      "Missing result...skipping.\n",
      "Processing record 395, taksimo\n",
      "Processing record 396, tailai\n",
      "Processing record 397, araouane\n",
      "Processing record 398, krasnyy luch\n",
      "Processing record 399, amahai\n",
      "Processing record 400, namibe\n",
      "Processing record 401, guerrero negro\n",
      "Processing record 402, ixtapa\n",
      "Processing record 403, havelock\n",
      "Processing record 404, okhotsk\n",
      "Processing record 405, mayo\n",
      "Processing record 406, yamasaki\n",
      "Processing record 407, arona\n",
      "Processing record 408, linxia\n",
      "Processing record 409, karatau\n",
      "Processing record 410, nagram\n",
      "Processing record 411, kemlya\n",
      "Processing record 412, rosetta\n",
      "Processing record 413, lardos\n",
      "Missing result...skipping.\n",
      "Processing record 414, teeli\n",
      "Missing result...skipping.\n",
      "Processing record 415, tiznit\n",
      "Processing record 416, igarka\n",
      "Missing result...skipping.\n",
      "Processing record 417, gamba\n",
      "Processing record 418, kyra\n",
      "Processing record 419, kemijarvi\n",
      "Processing record 420, asfi\n",
      "Processing record 421, abha\n",
      "Processing record 422, antalaha\n",
      "Processing record 423, saint anthony\n",
      "Processing record 424, tezu\n",
      "Processing record 425, vangaindrano\n",
      "Processing record 426, maxixe\n",
      "Processing record 427, hobyo\n",
      "Processing record 428, awjilah\n",
      "Processing record 429, kisangani\n",
      "Processing record 430, oberwart\n",
      "Processing record 431, xai-xai\n",
      "Processing record 432, tuatapere\n",
      "Missing result...skipping.\n",
      "Processing record 433, ucluelet\n",
      "Processing record 434, mayumba\n",
      "Processing record 435, lazaro cardenas\n",
      "Missing result...skipping.\n",
      "Processing record 436, virginia beach\n",
      "Processing record 437, nemuro\n",
      "Processing record 438, da lat\n",
      "Processing record 439, minot\n",
      "Processing record 440, kamina\n",
      "Missing result...skipping.\n",
      "Processing record 441, salalah\n",
      "Processing record 442, sibolga\n",
      "Processing record 443, sola\n",
      "Processing record 444, coolum beach\n",
      "Processing record 445, najran\n",
      "Processing record 446, gazanjyk\n",
      "Missing result...skipping.\n",
      "Processing record 447, tazovskiy\n",
      "Processing record 448, byron bay\n",
      "Processing record 449, kahului\n",
      "Processing record 450, orda\n",
      "Processing record 451, the valley\n",
      "Processing record 452, christchurch\n",
      "Processing record 453, luanda\n",
      "Processing record 454, arman\n",
      "Processing record 455, salou\n",
      "Processing record 456, zeya\n",
      "Processing record 457, inyonga\n",
      "Processing record 458, jaguarari\n",
      "Processing record 459, takoradi\n",
      "Processing record 460, san andres\n",
      "Processing record 461, muros\n",
      "Processing record 462, kabare\n",
      "Processing record 463, bindura\n",
      "Processing record 464, rawson\n",
      "Processing record 465, la rioja\n",
      "Processing record 466, lompoc\n",
      "Processing record 467, totness\n",
      "Processing record 468, tanda\n",
      "Processing record 469, dingle\n",
      "Processing record 470, paamiut\n",
      "Missing result...skipping.\n",
      "Processing record 471, casa nova\n",
      "Processing record 472, chikwawa\n",
      "Processing record 473, hovd\n",
      "Processing record 474, narsaq\n",
      "Processing record 475, coquimbo\n",
      "Missing result...skipping.\n",
      "Processing record 476, jajce\n",
      "Processing record 477, la ciotat\n",
      "Processing record 478, deputatskiy\n",
      "Processing record 479, beidao\n",
      "Processing record 480, kuala lumpur\n",
      "Processing record 481, kolno\n",
      "Processing record 482, lincoln\n",
      "Processing record 483, komsomolskiy\n"
     ]
    },
    {
     "name": "stdout",
     "output_type": "stream",
     "text": [
      "Processing record 484, lumeje\n",
      "Processing record 485, cap malheureux\n",
      "Processing record 486, taoudenni\n",
      "Processing record 487, aleksandrov gay\n",
      "Processing record 488, abu zabad\n",
      "Processing record 489, lexington\n",
      "Processing record 490, clyde river\n",
      "Processing record 491, flagstaff\n",
      "Missing result...skipping.\n",
      "Processing record 492, ambovombe\n",
      "Processing record 493, cedar city\n",
      "Processing record 494, lasa\n",
      "Processing record 495, kaniama\n",
      "Processing record 496, aberdeen\n",
      "Processing record 497, plettenberg bay\n",
      "Missing result...skipping.\n",
      "Processing record 498, emerald\n",
      "Processing record 499, teya\n",
      "Processing record 500, donskoye\n",
      "Processing record 501, nkongsamba\n",
      "Processing record 502, champerico\n",
      "Processing record 503, olinda\n",
      "Processing record 504, lago da pedra\n",
      "Processing record 505, gannan\n",
      "Processing record 506, sur\n",
      "Processing record 507, impfondo\n",
      "Processing record 508, mehamn\n",
      "Processing record 509, caravelas\n",
      "Processing record 510, esperance\n",
      "Processing record 511, miramar\n",
      "Processing record 512, andrews\n",
      "Processing record 513, hay river\n",
      "Processing record 514, khani\n",
      "Missing result...skipping.\n",
      "Processing record 515, bagdarin\n",
      "Missing result...skipping.\n",
      "Processing record 516, novoaltaysk\n",
      "Processing record 517, pathardi\n",
      "Processing record 518, marsh harbour\n",
      "Processing record 519, agua verde\n",
      "Processing record 520, phibun mangsahan\n",
      "Processing record 521, litovko\n",
      "Processing record 522, labrea\n",
      "Processing record 523, san policarpo\n",
      "Processing record 524, gardez\n",
      "Processing record 525, bati\n",
      "Processing record 526, cukai\n",
      "Processing record 527, rongcheng\n",
      "Processing record 528, zabaykalsk\n",
      "Processing record 529, worthing\n",
      "Processing record 530, saint-georges\n",
      "Processing record 531, navoi\n",
      "Processing record 532, bastia\n",
      "Processing record 533, morant bay\n",
      "Processing record 534, sao felix do xingu\n",
      "Processing record 535, xining\n",
      "Processing record 536, conceicao do araguaia\n",
      "Processing record 537, lagoa\n",
      "Processing record 538, karratha\n",
      "Processing record 539, valleyview\n",
      "Missing result...skipping.\n",
      "Processing record 540, chimbote\n",
      "Processing record 541, oil city\n",
      "Processing record 542, mikhaylovka\n"
     ]
    }
   ],
   "source": [
    "\n",
    "counter = 1\n",
    "\n",
    "for index, row in weather_df.iterrows():\n",
    "    city = row[0]\n",
    "    response = requests.get(query_url + city).json()\n",
    "    try:     \n",
    "        weather_df.loc[index, 'temp'] = response['main']['temp']\n",
    "        weather_df.loc[index, 'lat'] = response['coord']['lat']\n",
    "        weather_df.loc[index, 'lon'] = response['coord']['lon']\n",
    "        weather_df.loc[index, 'hum'] = response['main']['humidity']\n",
    "        weather_df.loc[index, 'cloud'] = response['clouds']['all']\n",
    "        weather_df.loc[index, 'wind'] = response['wind']['speed']\n",
    "        \n",
    "        #temps.append(response['main']['temp'])\n",
    "        #lat.append(response['coord']['lat'])\n",
    "        #hum.append(response['main']['humidity'])\n",
    "        #cloud.append(response['clouds']['all'])\n",
    "        #wind.append(response['wind']['speed'])\n",
    "        \n",
    "        print(f\"Processing record {counter}, {city}\")\n",
    "        counter = counter + 1\n",
    "    except (KeyError):\n",
    "        print(\"Missing result...skipping.\")\n",
    "        \n",
    "    "
   ]
  },
  {
   "cell_type": "code",
   "execution_count": 17,
   "metadata": {
    "scrolled": false
   },
   "outputs": [
    {
     "data": {
      "text/html": [
       "<div>\n",
       "<style scoped>\n",
       "    .dataframe tbody tr th:only-of-type {\n",
       "        vertical-align: middle;\n",
       "    }\n",
       "\n",
       "    .dataframe tbody tr th {\n",
       "        vertical-align: top;\n",
       "    }\n",
       "\n",
       "    .dataframe thead th {\n",
       "        text-align: right;\n",
       "    }\n",
       "</style>\n",
       "<table border=\"1\" class=\"dataframe\">\n",
       "  <thead>\n",
       "    <tr style=\"text-align: right;\">\n",
       "      <th></th>\n",
       "      <th>0</th>\n",
       "      <th>temp</th>\n",
       "      <th>lat</th>\n",
       "      <th>lon</th>\n",
       "      <th>hum</th>\n",
       "      <th>cloud</th>\n",
       "      <th>wind</th>\n",
       "    </tr>\n",
       "  </thead>\n",
       "  <tbody>\n",
       "    <tr>\n",
       "      <td>0</td>\n",
       "      <td>kidal</td>\n",
       "      <td>23.52</td>\n",
       "      <td>18.44</td>\n",
       "      <td>1.41</td>\n",
       "      <td>9.0</td>\n",
       "      <td>0.0</td>\n",
       "      <td>2.15</td>\n",
       "    </tr>\n",
       "    <tr>\n",
       "      <td>1</td>\n",
       "      <td>bluff</td>\n",
       "      <td>13.89</td>\n",
       "      <td>-46.60</td>\n",
       "      <td>168.33</td>\n",
       "      <td>85.0</td>\n",
       "      <td>100.0</td>\n",
       "      <td>5.36</td>\n",
       "    </tr>\n",
       "    <tr>\n",
       "      <td>2</td>\n",
       "      <td>new norfolk</td>\n",
       "      <td>11.99</td>\n",
       "      <td>-42.78</td>\n",
       "      <td>147.06</td>\n",
       "      <td>62.0</td>\n",
       "      <td>75.0</td>\n",
       "      <td>2.60</td>\n",
       "    </tr>\n",
       "    <tr>\n",
       "      <td>3</td>\n",
       "      <td>ca mau</td>\n",
       "      <td>22.96</td>\n",
       "      <td>9.18</td>\n",
       "      <td>105.15</td>\n",
       "      <td>93.0</td>\n",
       "      <td>100.0</td>\n",
       "      <td>1.88</td>\n",
       "    </tr>\n",
       "    <tr>\n",
       "      <td>4</td>\n",
       "      <td>yellowknife</td>\n",
       "      <td>-17.48</td>\n",
       "      <td>62.46</td>\n",
       "      <td>-114.35</td>\n",
       "      <td>64.0</td>\n",
       "      <td>40.0</td>\n",
       "      <td>4.10</td>\n",
       "    </tr>\n",
       "    <tr>\n",
       "      <td>...</td>\n",
       "      <td>...</td>\n",
       "      <td>...</td>\n",
       "      <td>...</td>\n",
       "      <td>...</td>\n",
       "      <td>...</td>\n",
       "      <td>...</td>\n",
       "      <td>...</td>\n",
       "    </tr>\n",
       "    <tr>\n",
       "      <td>582</td>\n",
       "      <td>valleyview</td>\n",
       "      <td>1.72</td>\n",
       "      <td>55.07</td>\n",
       "      <td>-117.29</td>\n",
       "      <td>73.0</td>\n",
       "      <td>0.0</td>\n",
       "      <td>6.07</td>\n",
       "    </tr>\n",
       "    <tr>\n",
       "      <td>583</td>\n",
       "      <td>haibowan</td>\n",
       "      <td>NaN</td>\n",
       "      <td>NaN</td>\n",
       "      <td>NaN</td>\n",
       "      <td>NaN</td>\n",
       "      <td>NaN</td>\n",
       "      <td>NaN</td>\n",
       "    </tr>\n",
       "    <tr>\n",
       "      <td>584</td>\n",
       "      <td>chimbote</td>\n",
       "      <td>27.37</td>\n",
       "      <td>-9.09</td>\n",
       "      <td>-78.58</td>\n",
       "      <td>58.0</td>\n",
       "      <td>56.0</td>\n",
       "      <td>6.15</td>\n",
       "    </tr>\n",
       "    <tr>\n",
       "      <td>585</td>\n",
       "      <td>oil city</td>\n",
       "      <td>6.95</td>\n",
       "      <td>41.43</td>\n",
       "      <td>-79.71</td>\n",
       "      <td>93.0</td>\n",
       "      <td>90.0</td>\n",
       "      <td>6.20</td>\n",
       "    </tr>\n",
       "    <tr>\n",
       "      <td>586</td>\n",
       "      <td>mikhaylovka</td>\n",
       "      <td>0.56</td>\n",
       "      <td>50.06</td>\n",
       "      <td>43.24</td>\n",
       "      <td>67.0</td>\n",
       "      <td>51.0</td>\n",
       "      <td>0.45</td>\n",
       "    </tr>\n",
       "  </tbody>\n",
       "</table>\n",
       "<p>587 rows × 7 columns</p>\n",
       "</div>"
      ],
      "text/plain": [
       "               0   temp    lat     lon   hum  cloud  wind\n",
       "0          kidal  23.52  18.44    1.41   9.0    0.0  2.15\n",
       "1          bluff  13.89 -46.60  168.33  85.0  100.0  5.36\n",
       "2    new norfolk  11.99 -42.78  147.06  62.0   75.0  2.60\n",
       "3         ca mau  22.96   9.18  105.15  93.0  100.0  1.88\n",
       "4    yellowknife -17.48  62.46 -114.35  64.0   40.0  4.10\n",
       "..           ...    ...    ...     ...   ...    ...   ...\n",
       "582   valleyview   1.72  55.07 -117.29  73.0    0.0  6.07\n",
       "583     haibowan    NaN    NaN     NaN   NaN    NaN   NaN\n",
       "584     chimbote  27.37  -9.09  -78.58  58.0   56.0  6.15\n",
       "585     oil city   6.95  41.43  -79.71  93.0   90.0  6.20\n",
       "586  mikhaylovka   0.56  50.06   43.24  67.0   51.0  0.45\n",
       "\n",
       "[587 rows x 7 columns]"
      ]
     },
     "execution_count": 17,
     "metadata": {},
     "output_type": "execute_result"
    }
   ],
   "source": [
    "weather_df"
   ]
  },
  {
   "cell_type": "code",
   "execution_count": 120,
   "metadata": {},
   "outputs": [],
   "source": [
    "#make the weather_df into a csv file\n",
    "#df.to_csv(r'Path where you want to store the exported CSV file\\File Name.csv', index = False)\n",
    "weather_df.to_csv(r'weather.csv', index = False)"
   ]
  },
  {
   "cell_type": "markdown",
   "metadata": {},
   "source": [
    "### Plotting the Data\n",
    "* Use proper labeling of the plots using plot titles (including date of analysis) and axes labels.\n",
    "* Save the plotted figures as .pngs."
   ]
  },
  {
   "cell_type": "markdown",
   "metadata": {},
   "source": [
    "#### Latitude vs. Temperature Plot"
   ]
  },
  {
   "cell_type": "code",
   "execution_count": 18,
   "metadata": {
    "scrolled": true
   },
   "outputs": [
    {
     "data": {
      "text/plain": [
       "Text(0, 0.5, 'Temperature')"
      ]
     },
     "execution_count": 18,
     "metadata": {},
     "output_type": "execute_result"
    },
    {
     "data": {
      "image/png": "[encoded data removed]",
      "text/plain": [
       "<Figure size 432x288 with 1 Axes>"
      ]
     },
     "metadata": {
      "needs_background": "light"
     },
     "output_type": "display_data"
    }
   ],
   "source": [
    "x_values = weather_df['lat']\n",
    "y_values = weather_df['temp']\n",
    "plt.scatter(x_values, y_values)\n",
    "plt.title(\"Temperture vs. Latitude for Cities 3/1/2019\")\n",
    "plt.xlabel('Latitude')\n",
    "plt.ylabel('Temperature')"
   ]
  },
  {
   "cell_type": "markdown",
   "metadata": {},
   "source": [
    "#### Latitude vs. Humidity Plot"
   ]
  },
  {
   "cell_type": "code",
   "execution_count": 19,
   "metadata": {},
   "outputs": [
    {
     "data": {
      "text/plain": [
       "Text(0, 0.5, 'Humidity')"
      ]
     },
     "execution_count": 19,
     "metadata": {},
     "output_type": "execute_result"
    },
    {
     "data": {
      "image/png": "[encoded data removed]",
      "text/plain": [
       "<Figure size 432x288 with 1 Axes>"
      ]
     },
     "metadata": {
      "needs_background": "light"
     },
     "output_type": "display_data"
    }
   ],
   "source": [
    "x_values = weather_df['lat']\n",
    "y_values = weather_df['hum']\n",
    "plt.scatter(x_values, y_values)\n",
    "plt.title(\"Humidity vs. Latitude for Cities 3/1/2019\")\n",
    "plt.xlabel('Latitude')\n",
    "plt.ylabel('Humidity')"
   ]
  },
  {
   "cell_type": "markdown",
   "metadata": {},
   "source": [
    "#### Latitude vs. Cloudiness Plot"
   ]
  },
  {
   "cell_type": "code",
   "execution_count": 20,
   "metadata": {},
   "outputs": [
    {
     "data": {
      "text/plain": [
       "Text(0, 0.5, 'Cloudiness')"
      ]
     },
     "execution_count": 20,
     "metadata": {},
     "output_type": "execute_result"
    },
    {
     "data": {
      "image/png": "[encoded data removed]",
      "text/plain": [
       "<Figure size 432x288 with 1 Axes>"
      ]
     },
     "metadata": {
      "needs_background": "light"
     },
     "output_type": "display_data"
    }
   ],
   "source": [
    "x_values = weather_df['lat']\n",
    "y_values = weather_df['cloud']\n",
    "plt.scatter(x_values, y_values)\n",
    "plt.title(\"Cloudiness vs. Latitude for Cities 3/1/2019\")\n",
    "plt.xlabel('Latitude')\n",
    "plt.ylabel('Cloudiness')"
   ]
  },
  {
   "cell_type": "markdown",
   "metadata": {},
   "source": [
    "#### Latitude vs. Wind Speed Plot"
   ]
  },
  {
   "cell_type": "code",
   "execution_count": 21,
   "metadata": {},
   "outputs": [
    {
     "data": {
      "text/plain": [
       "Text(0, 0.5, 'Wind Speed')"
      ]
     },
     "execution_count": 21,
     "metadata": {},
     "output_type": "execute_result"
    },
    {
     "data": {
      "image/png": "[encoded data removed]",
      "text/plain": [
       "<Figure size 432x288 with 1 Axes>"
      ]
     },
     "metadata": {
      "needs_background": "light"
     },
     "output_type": "display_data"
    }
   ],
   "source": [
    "x_values = weather_df['lat']\n",
    "y_values = weather_df['wind']\n",
    "plt.scatter(x_values, y_values)\n",
    "plt.title(\"Wind Speed vs. Latitude for Cities 3/1/2019\")\n",
    "plt.xlabel('Latitude')\n",
    "plt.ylabel('Wind Speed')"
   ]
  },
  {
   "cell_type": "markdown",
   "metadata": {},
   "source": [
    "## Linear Regression"
   ]
  },
  {
   "cell_type": "markdown",
   "metadata": {},
   "source": [
    "def x_y():\n",
    "    x_min = x_values.min()\n",
    "    y_min = y_values.min()\n",
    "x_values.min()"
   ]
  },
  {
   "cell_type": "code",
   "execution_count": 26,
   "metadata": {},
   "outputs": [],
   "source": [
    "# OPTIONAL: Create a function to create Linear Regression plots\n",
    "# Perform a linear regression on temperature vs. latitude\n",
    "from scipy import stats\n",
    "    \n",
    "def lin_reg():\n",
    "    (slope, intercept, rvalue, pvalue, stderr) = stats.linregress(x_values, y_values)\n",
    "    # Get regression values\n",
    "    regress_values = x_values * slope + intercept\n",
    "    # Create line equation string\n",
    "    line_eq = \"y = \" + str(round(slope,2)) + \"x +\" + str(round(intercept,2))\n",
    "    plt.plot(x_values,regress_values,\"r-\")\n",
    "    \n",
    "    #plt.annotate(line_eq, xy=(0.05, 0.95), xycoords='axes fraction', fonstsize=15, color='red')\n",
    "    plt.annotate(line_eq, xy=(x_values.min(),y_values.min()), fontsize=15,color=\"red\")\n",
    "    \n",
    "    #plt.legend(line_eq, loc='best', fontsize='small', fancybox=True, framealpha=0.7, handlelength=0, handletextpad=0)\n",
    "    #Print r square value\n",
    "    print(f\"The r-squared is: {rvalue}\")\n",
    "    print(line_eq)\n",
    "    print(regress_values)"
   ]
  },
  {
   "cell_type": "code",
   "execution_count": 36,
   "metadata": {},
   "outputs": [
    {
     "data": {
      "text/html": [
       "<div>\n",
       "<style scoped>\n",
       "    .dataframe tbody tr th:only-of-type {\n",
       "        vertical-align: middle;\n",
       "    }\n",
       "\n",
       "    .dataframe tbody tr th {\n",
       "        vertical-align: top;\n",
       "    }\n",
       "\n",
       "    .dataframe thead th {\n",
       "        text-align: right;\n",
       "    }\n",
       "</style>\n",
       "<table border=\"1\" class=\"dataframe\">\n",
       "  <thead>\n",
       "    <tr style=\"text-align: right;\">\n",
       "      <th></th>\n",
       "      <th>0</th>\n",
       "      <th>temp</th>\n",
       "      <th>lat</th>\n",
       "      <th>lon</th>\n",
       "      <th>hum</th>\n",
       "      <th>cloud</th>\n",
       "      <th>wind</th>\n",
       "    </tr>\n",
       "  </thead>\n",
       "  <tbody>\n",
       "    <tr>\n",
       "      <td>1</td>\n",
       "      <td>bluff</td>\n",
       "      <td>13.89</td>\n",
       "      <td>-46.60</td>\n",
       "      <td>168.33</td>\n",
       "      <td>85.0</td>\n",
       "      <td>100.0</td>\n",
       "      <td>5.36</td>\n",
       "    </tr>\n",
       "    <tr>\n",
       "      <td>2</td>\n",
       "      <td>new norfolk</td>\n",
       "      <td>11.99</td>\n",
       "      <td>-42.78</td>\n",
       "      <td>147.06</td>\n",
       "      <td>62.0</td>\n",
       "      <td>75.0</td>\n",
       "      <td>2.60</td>\n",
       "    </tr>\n",
       "    <tr>\n",
       "      <td>6</td>\n",
       "      <td>sungaipenuh</td>\n",
       "      <td>16.86</td>\n",
       "      <td>-2.08</td>\n",
       "      <td>101.38</td>\n",
       "      <td>98.0</td>\n",
       "      <td>100.0</td>\n",
       "      <td>1.10</td>\n",
       "    </tr>\n",
       "    <tr>\n",
       "      <td>10</td>\n",
       "      <td>rikitea</td>\n",
       "      <td>26.76</td>\n",
       "      <td>-23.12</td>\n",
       "      <td>-134.97</td>\n",
       "      <td>79.0</td>\n",
       "      <td>100.0</td>\n",
       "      <td>7.83</td>\n",
       "    </tr>\n",
       "    <tr>\n",
       "      <td>12</td>\n",
       "      <td>hermanus</td>\n",
       "      <td>20.86</td>\n",
       "      <td>-34.42</td>\n",
       "      <td>19.23</td>\n",
       "      <td>86.0</td>\n",
       "      <td>0.0</td>\n",
       "      <td>4.02</td>\n",
       "    </tr>\n",
       "    <tr>\n",
       "      <td>...</td>\n",
       "      <td>...</td>\n",
       "      <td>...</td>\n",
       "      <td>...</td>\n",
       "      <td>...</td>\n",
       "      <td>...</td>\n",
       "      <td>...</td>\n",
       "      <td>...</td>\n",
       "    </tr>\n",
       "    <tr>\n",
       "      <td>565</td>\n",
       "      <td>labrea</td>\n",
       "      <td>28.48</td>\n",
       "      <td>-7.26</td>\n",
       "      <td>-64.80</td>\n",
       "      <td>87.0</td>\n",
       "      <td>86.0</td>\n",
       "      <td>0.73</td>\n",
       "    </tr>\n",
       "    <tr>\n",
       "      <td>577</td>\n",
       "      <td>sao felix do xingu</td>\n",
       "      <td>27.74</td>\n",
       "      <td>-6.64</td>\n",
       "      <td>-51.99</td>\n",
       "      <td>81.0</td>\n",
       "      <td>69.0</td>\n",
       "      <td>1.28</td>\n",
       "    </tr>\n",
       "    <tr>\n",
       "      <td>579</td>\n",
       "      <td>conceicao do araguaia</td>\n",
       "      <td>26.98</td>\n",
       "      <td>-8.26</td>\n",
       "      <td>-49.26</td>\n",
       "      <td>89.0</td>\n",
       "      <td>100.0</td>\n",
       "      <td>0.63</td>\n",
       "    </tr>\n",
       "    <tr>\n",
       "      <td>581</td>\n",
       "      <td>karratha</td>\n",
       "      <td>29.03</td>\n",
       "      <td>-20.74</td>\n",
       "      <td>116.85</td>\n",
       "      <td>78.0</td>\n",
       "      <td>4.0</td>\n",
       "      <td>2.14</td>\n",
       "    </tr>\n",
       "    <tr>\n",
       "      <td>584</td>\n",
       "      <td>chimbote</td>\n",
       "      <td>27.37</td>\n",
       "      <td>-9.09</td>\n",
       "      <td>-78.58</td>\n",
       "      <td>58.0</td>\n",
       "      <td>56.0</td>\n",
       "      <td>6.15</td>\n",
       "    </tr>\n",
       "  </tbody>\n",
       "</table>\n",
       "<p>173 rows × 7 columns</p>\n",
       "</div>"
      ],
      "text/plain": [
       "                         0   temp    lat     lon   hum  cloud  wind\n",
       "1                    bluff  13.89 -46.60  168.33  85.0  100.0  5.36\n",
       "2              new norfolk  11.99 -42.78  147.06  62.0   75.0  2.60\n",
       "6              sungaipenuh  16.86  -2.08  101.38  98.0  100.0  1.10\n",
       "10                 rikitea  26.76 -23.12 -134.97  79.0  100.0  7.83\n",
       "12                hermanus  20.86 -34.42   19.23  86.0    0.0  4.02\n",
       "..                     ...    ...    ...     ...   ...    ...   ...\n",
       "565                 labrea  28.48  -7.26  -64.80  87.0   86.0  0.73\n",
       "577     sao felix do xingu  27.74  -6.64  -51.99  81.0   69.0  1.28\n",
       "579  conceicao do araguaia  26.98  -8.26  -49.26  89.0  100.0  0.63\n",
       "581               karratha  29.03 -20.74  116.85  78.0    4.0  2.14\n",
       "584               chimbote  27.37  -9.09  -78.58  58.0   56.0  6.15\n",
       "\n",
       "[173 rows x 7 columns]"
      ]
     },
     "execution_count": 36,
     "metadata": {},
     "output_type": "execute_result"
    }
   ],
   "source": [
    "# Create Northern and Southern Hemisphere DataFrames\n",
    "#example from stackoverflow: cust_sell = mainDf[mainDf.Type == 'S']\n",
    "northern_df = weather_df[weather_df.lat >= 0]\n",
    "#northern_df\n",
    "southern_df = weather_df[weather_df.lat < 0]\n",
    "southern_df"
   ]
  },
  {
   "cell_type": "markdown",
   "metadata": {},
   "source": [
    "####  Northern Hemisphere - Max Temp vs. Latitude Linear Regression"
   ]
  },
  {
   "cell_type": "code",
   "execution_count": 37,
   "metadata": {},
   "outputs": [
    {
     "name": "stdout",
     "output_type": "stream",
     "text": [
      "The r-squared is: -0.8877461962162406\n",
      "y = -0.71x +34.12\n",
      "0      21.036040\n",
      "3      27.604432\n",
      "4     -10.188646\n",
      "5     -11.813010\n",
      "7       4.771114\n",
      "         ...    \n",
      "578     8.140429\n",
      "580     6.416759\n",
      "582    -4.946700\n",
      "585     4.728554\n",
      "586    -1.392960\n",
      "Name: lat, Length: 369, dtype: float64\n"
     ]
    },
    {
     "data": {
      "image/png": "[encoded data removed]",
      "text/plain": [
       "<Figure size 432x288 with 1 Axes>"
      ]
     },
     "metadata": {
      "needs_background": "light"
     },
     "output_type": "display_data"
    }
   ],
   "source": [
    "x_values = northern_df['lat']\n",
    "y_values = northern_df['temp']\n",
    "plt.scatter(x_values,y_values)\n",
    "plt.title('Max Temperature vs. Latitude in the Northern Hemisphere 3/1/2019')\n",
    "plt.xlabel('Latitude')\n",
    "plt.ylabel('Max Temperature')\n",
    "lin_reg()\n",
    "plt.show()\n"
   ]
  },
  {
   "cell_type": "markdown",
   "metadata": {},
   "source": [
    "####  Southern Hemisphere - Max Temp vs. Latitude Linear Regression"
   ]
  },
  {
   "cell_type": "code",
   "execution_count": 38,
   "metadata": {},
   "outputs": [
    {
     "name": "stdout",
     "output_type": "stream",
     "text": [
      "The r-squared is: 0.5306751205609548\n",
      "y = 0.19x +26.91\n",
      "1      18.223912\n",
      "2      18.936021\n",
      "6      26.523151\n",
      "10     22.600959\n",
      "12     20.494458\n",
      "         ...    \n",
      "565    25.557516\n",
      "577    25.673094\n",
      "579    25.371100\n",
      "581    23.044629\n",
      "584    25.216375\n",
      "Name: lat, Length: 173, dtype: float64\n"
     ]
    },
    {
     "data": {
      "image/png": "[encoded data removed]",
      "text/plain": [
       "<Figure size 432x288 with 1 Axes>"
      ]
     },
     "metadata": {
      "needs_background": "light"
     },
     "output_type": "display_data"
    }
   ],
   "source": [
    "x_values = southern_df['lat']\n",
    "y_values = southern_df['temp']\n",
    "plt.scatter(x_values,y_values)\n",
    "plt.title('Max Temperature vs. Latitude in the Southern Hemisphere 3/1/2019')\n",
    "plt.xlabel('Latitude')\n",
    "plt.ylabel('Max Temperature')\n",
    "lin_reg()\n",
    "plt.show()"
   ]
  },
  {
   "cell_type": "markdown",
   "metadata": {},
   "source": [
    "####  Northern Hemisphere - Humidity (%) vs. Latitude Linear Regression"
   ]
  },
  {
   "cell_type": "code",
   "execution_count": 39,
   "metadata": {},
   "outputs": [
    {
     "name": "stdout",
     "output_type": "stream",
     "text": [
      "The r-squared is: 0.2593918908734407\n",
      "y = 0.29x +59.23\n",
      "0      64.549105\n",
      "3      61.879524\n",
      "4      77.239705\n",
      "5      77.899893\n",
      "7      71.159633\n",
      "         ...    \n",
      "578    69.790248\n",
      "580    70.490796\n",
      "582    75.109229\n",
      "585    71.176931\n",
      "586    73.664888\n",
      "Name: lat, Length: 369, dtype: float64\n"
     ]
    },
    {
     "data": {
      "image/png": "[encoded data removed]",
      "text/plain": [
       "<Figure size 432x288 with 1 Axes>"
      ]
     },
     "metadata": {
      "needs_background": "light"
     },
     "output_type": "display_data"
    }
   ],
   "source": [
    "x_values = northern_df['lat']\n",
    "y_values = northern_df['hum']\n",
    "plt.scatter(x_values,y_values)\n",
    "plt.title('Humidity vs. Latitude in the Northern Hemisphere 3/1/2019')\n",
    "plt.xlabel('Latitude')\n",
    "plt.ylabel('Humidity')\n",
    "lin_reg()\n",
    "plt.show()"
   ]
  },
  {
   "cell_type": "markdown",
   "metadata": {},
   "source": [
    "####  Southern Hemisphere - Humidity (%) vs. Latitude Linear Regression"
   ]
  },
  {
   "cell_type": "code",
   "execution_count": 40,
   "metadata": {},
   "outputs": [
    {
     "name": "stdout",
     "output_type": "stream",
     "text": [
      "The r-squared is: 0.17171638247429397\n",
      "y = 0.21x +83.0\n",
      "1      73.362542\n",
      "2      74.152226\n",
      "6      82.565873\n",
      "10     78.216410\n",
      "12     75.880435\n",
      "         ...    \n",
      "565    81.495045\n",
      "577    81.623214\n",
      "579    81.288322\n",
      "581    78.708412\n",
      "584    81.116741\n",
      "Name: lat, Length: 173, dtype: float64\n"
     ]
    },
    {
     "data": {
      "image/png": "[encoded data removed]",
      "text/plain": [
       "<Figure size 432x288 with 1 Axes>"
      ]
     },
     "metadata": {
      "needs_background": "light"
     },
     "output_type": "display_data"
    }
   ],
   "source": [
    "x_values = southern_df['lat']\n",
    "y_values = southern_df['hum']\n",
    "plt.scatter(x_values,y_values)\n",
    "plt.title('Humidity vs. Latitude in the Southern Hemisphere 3/1/2019')\n",
    "plt.xlabel('Latitude')\n",
    "plt.ylabel('Humidity')\n",
    "lin_reg()\n",
    "plt.show()"
   ]
  },
  {
   "cell_type": "markdown",
   "metadata": {},
   "source": [
    "####  Northern Hemisphere - Cloudiness (%) vs. Latitude Linear Regression"
   ]
  },
  {
   "cell_type": "code",
   "execution_count": 41,
   "metadata": {},
   "outputs": [
    {
     "name": "stdout",
     "output_type": "stream",
     "text": [
      "The r-squared is: 0.15423990819976027\n",
      "y = 0.31x +37.04\n",
      "0      42.700468\n",
      "3      39.858372\n",
      "4      56.211166\n",
      "5      56.914017\n",
      "7      49.738185\n",
      "         ...    \n",
      "578    48.280307\n",
      "580    49.026127\n",
      "582    53.943014\n",
      "585    49.756601\n",
      "586    52.405336\n",
      "Name: lat, Length: 369, dtype: float64\n"
     ]
    },
    {
     "data": {
      "image/png": "[encoded data removed]",
      "text/plain": [
       "<Figure size 432x288 with 1 Axes>"
      ]
     },
     "metadata": {
      "needs_background": "light"
     },
     "output_type": "display_data"
    }
   ],
   "source": [
    "x_values = northern_df['lat']\n",
    "y_values = northern_df['cloud']\n",
    "plt.scatter(x_values,y_values)\n",
    "plt.title('% Cloudiness vs. Latitude in the Northern Hemisphere 3/1/2019')\n",
    "plt.xlabel('Latitude')\n",
    "plt.ylabel('Cloudiness')\n",
    "lin_reg()\n",
    "plt.show()"
   ]
  },
  {
   "cell_type": "markdown",
   "metadata": {},
   "source": [
    "####  Southern Hemisphere - Cloudiness (%) vs. Latitude Linear Regression"
   ]
  },
  {
   "cell_type": "code",
   "execution_count": 42,
   "metadata": {},
   "outputs": [
    {
     "name": "stdout",
     "output_type": "stream",
     "text": [
      "The r-squared is: 0.14890939157245534\n",
      "y = 0.42x +69.52\n",
      "1      49.745415\n",
      "2      51.366468\n",
      "6      68.637900\n",
      "10     59.709376\n",
      "12     54.914113\n",
      "         ...    \n",
      "565    66.439718\n",
      "577    66.702820\n",
      "579    66.015358\n",
      "581    60.719351\n",
      "584    65.663140\n",
      "Name: lat, Length: 173, dtype: float64\n"
     ]
    },
    {
     "data": {
      "image/png": "[encoded data removed]",
      "text/plain": [
       "<Figure size 432x288 with 1 Axes>"
      ]
     },
     "metadata": {
      "needs_background": "light"
     },
     "output_type": "display_data"
    }
   ],
   "source": [
    "x_values = southern_df['lat']\n",
    "y_values = southern_df['cloud']\n",
    "plt.scatter(x_values,y_values)\n",
    "plt.title('% Cloudiness vs. Latitude in the Southern Hemisphere 3/1/2019')\n",
    "plt.xlabel('Latitude')\n",
    "plt.ylabel('Cloudiness')\n",
    "lin_reg()\n",
    "plt.show()"
   ]
  },
  {
   "cell_type": "markdown",
   "metadata": {},
   "source": [
    "####  Northern Hemisphere - Wind Speed (mph) vs. Latitude Linear Regression"
   ]
  },
  {
   "cell_type": "code",
   "execution_count": 43,
   "metadata": {},
   "outputs": [
    {
     "name": "stdout",
     "output_type": "stream",
     "text": [
      "The r-squared is: 0.12763901568092106\n",
      "y = 0.02x +3.28\n",
      "0      3.630263\n",
      "3      3.455369\n",
      "4      4.461670\n",
      "5      4.504922\n",
      "7      4.063343\n",
      "         ...   \n",
      "578    3.973629\n",
      "580    4.019525\n",
      "582    4.322095\n",
      "585    4.064476\n",
      "586    4.227471\n",
      "Name: lat, Length: 369, dtype: float64\n"
     ]
    },
    {
     "data": {
      "image/png": "[encoded data removed]",
      "text/plain": [
       "<Figure size 432x288 with 1 Axes>"
      ]
     },
     "metadata": {
      "needs_background": "light"
     },
     "output_type": "display_data"
    }
   ],
   "source": [
    "x_values = northern_df['lat']\n",
    "y_values = northern_df['wind']\n",
    "plt.scatter(x_values,y_values)\n",
    "plt.title('Wind Speed (mph) vs. Latitude in the Northern Hemisphere 3/1/2019')\n",
    "plt.xlabel('Latitude')\n",
    "plt.ylabel('Wind Speed (mph)')\n",
    "lin_reg()\n",
    "plt.show()"
   ]
  },
  {
   "cell_type": "markdown",
   "metadata": {},
   "source": [
    "####  Southern Hemisphere - Wind Speed (mph) vs. Latitude Linear Regression"
   ]
  },
  {
   "cell_type": "code",
   "execution_count": 44,
   "metadata": {},
   "outputs": [
    {
     "name": "stdout",
     "output_type": "stream",
     "text": [
      "The r-squared is: -0.2577939173435197\n",
      "y = -0.05x +2.45\n",
      "1      4.556208\n",
      "2      4.383917\n",
      "6      2.548251\n",
      "10     3.497204\n",
      "12     4.006861\n",
      "         ...   \n",
      "565    2.781881\n",
      "577    2.753917\n",
      "579    2.826983\n",
      "581    3.389861\n",
      "584    2.864418\n",
      "Name: lat, Length: 173, dtype: float64\n"
     ]
    },
    {
     "data": {
      "image/png": "[encoded data removed]",
      "text/plain": [
       "<Figure size 432x288 with 1 Axes>"
      ]
     },
     "metadata": {
      "needs_background": "light"
     },
     "output_type": "display_data"
    }
   ],
   "source": [
    "x_values = southern_df['lat']\n",
    "y_values = southern_df['wind']\n",
    "plt.scatter(x_values,y_values)\n",
    "plt.title('Wind Speed (mph) vs. Latitude in the Southern Hemisphere 3/1/2019')\n",
    "plt.xlabel('Latitude')\n",
    "plt.ylabel('Wind Speed (mph)')\n",
    "lin_reg()\n",
    "plt.show()"
   ]
  },
  {
   "cell_type": "code",
   "execution_count": null,
   "metadata": {},
   "outputs": [],
   "source": []
  }
 ],
 "metadata": {
  "anaconda-cloud": {},
  "kernel_info": {
   "name": "python3"
  },
  "kernelspec": {
   "display_name": "Python 3",
   "language": "python",
   "name": "python3"
  },
  "language_info": {
   "codemirror_mode": {
    "name": "ipython",
    "version": 3
   },
   "file_extension": ".py",
   "mimetype": "text/x-python",
   "name": "python",
   "nbconvert_exporter": "python",
   "pygments_lexer": "ipython3",
   "version": "3.7.4"
  },
  "latex_envs": {
   "LaTeX_envs_menu_present": true,
   "autoclose": false,
   "autocomplete": true,
   "bibliofile": "biblio.bib",
   "cite_by": "apalike",
   "current_citInitial": 1,
   "eqLabelWithNumbers": true,
   "eqNumInitial": 1,
   "hotkeys": {
    "equation": "Ctrl-E",
    "itemize": "Ctrl-I"
   },
   "labels_anchors": false,
   "latex_user_defs": false,
   "report_style_numbering": false,
   "user_envs_cfg": false
  },
  "nteract": {
   "version": "0.12.3"
  }
 },
 "nbformat": 4,
 "nbformat_minor": 2
}
