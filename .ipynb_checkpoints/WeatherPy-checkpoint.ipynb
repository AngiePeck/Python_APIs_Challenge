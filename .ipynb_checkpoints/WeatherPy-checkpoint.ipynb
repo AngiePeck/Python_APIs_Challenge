{
 "cells": [
  {
   "cell_type": "markdown",
   "metadata": {},
   "source": [
    "# WeatherPy\n",
    "----\n",
    "\n",
    "#### Note\n",
    "* Instructions have been included for each segment. You do not have to follow them exactly, but they are included to help you think through the steps."
   ]
  },
  {
   "cell_type": "code",
   "execution_count": 1,
   "metadata": {
    "scrolled": true
   },
   "outputs": [],
   "source": [
    "# Dependencies and Setup\n",
    "import matplotlib.pyplot as plt\n",
    "import pandas as pd\n",
    "import numpy as np\n",
    "import requests\n",
    "import time\n",
    "from scipy.stats import linregress\n",
    "\n",
    "# Import API key\n",
    "from api_keys import weather_api_key"
   ]
  },
  {
   "cell_type": "code",
   "execution_count": 2,
   "metadata": {},
   "outputs": [],
   "source": [
    "# Incorporated citipy to determine city based on latitude and longitude\n",
    "from citipy import citipy\n",
    "\n",
    "# Output File (CSV)\n",
    "output_data_file = \"cities.csv\"\n",
    "\n",
    "# Range of latitudes and longitudes\n",
    "lat_range = (-90, 90)\n",
    "lng_range = (-180, 180)"
   ]
  },
  {
   "cell_type": "markdown",
   "metadata": {},
   "source": [
    "## Generate Cities List"
   ]
  },
  {
   "cell_type": "code",
   "execution_count": 3,
   "metadata": {},
   "outputs": [
    {
     "data": {
      "text/plain": [
       "589"
      ]
     },
     "execution_count": 3,
     "metadata": {},
     "output_type": "execute_result"
    }
   ],
   "source": [
    "# List for holding lat_lngs and cities\n",
    "lat_lngs = []\n",
    "cities = []\n",
    "\n",
    "# Create a set of random lat and lng combinations\n",
    "lats = np.random.uniform(low=-90.000, high=90.000, size=1500)\n",
    "lngs = np.random.uniform(low=-180.000, high=180.000, size=1500)\n",
    "lat_lngs = zip(lats, lngs)\n",
    "\n",
    "# Identify nearest city for each lat, lng combination\n",
    "for lat_lng in lat_lngs:\n",
    "    city = citipy.nearest_city(lat_lng[0], lat_lng[1]).city_name\n",
    "    \n",
    "    # If the city is unique, then add it to a our cities list\n",
    "    if city not in cities:\n",
    "        cities.append(city)\n",
    "\n",
    "# Print the city count to confirm sufficient count\n",
    "len(cities)"
   ]
  },
  {
   "cell_type": "code",
   "execution_count": 23,
   "metadata": {},
   "outputs": [
    {
     "data": {
      "text/html": [
       "<div>\n",
       "<style scoped>\n",
       "    .dataframe tbody tr th:only-of-type {\n",
       "        vertical-align: middle;\n",
       "    }\n",
       "\n",
       "    .dataframe tbody tr th {\n",
       "        vertical-align: top;\n",
       "    }\n",
       "\n",
       "    .dataframe thead th {\n",
       "        text-align: right;\n",
       "    }\n",
       "</style>\n",
       "<table border=\"1\" class=\"dataframe\">\n",
       "  <thead>\n",
       "    <tr style=\"text-align: right;\">\n",
       "      <th></th>\n",
       "      <th>0</th>\n",
       "    </tr>\n",
       "  </thead>\n",
       "  <tbody>\n",
       "    <tr>\n",
       "      <td>0</td>\n",
       "      <td>tahoua</td>\n",
       "    </tr>\n",
       "    <tr>\n",
       "      <td>1</td>\n",
       "      <td>ushuaia</td>\n",
       "    </tr>\n",
       "    <tr>\n",
       "      <td>2</td>\n",
       "      <td>iqaluit</td>\n",
       "    </tr>\n",
       "    <tr>\n",
       "      <td>3</td>\n",
       "      <td>sungairaya</td>\n",
       "    </tr>\n",
       "    <tr>\n",
       "      <td>4</td>\n",
       "      <td>mataura</td>\n",
       "    </tr>\n",
       "    <tr>\n",
       "      <td>...</td>\n",
       "      <td>...</td>\n",
       "    </tr>\n",
       "    <tr>\n",
       "      <td>584</td>\n",
       "      <td>kartuzy</td>\n",
       "    </tr>\n",
       "    <tr>\n",
       "      <td>585</td>\n",
       "      <td>tokamachi</td>\n",
       "    </tr>\n",
       "    <tr>\n",
       "      <td>586</td>\n",
       "      <td>gunnedah</td>\n",
       "    </tr>\n",
       "    <tr>\n",
       "      <td>587</td>\n",
       "      <td>praya</td>\n",
       "    </tr>\n",
       "    <tr>\n",
       "      <td>588</td>\n",
       "      <td>nakasongola</td>\n",
       "    </tr>\n",
       "  </tbody>\n",
       "</table>\n",
       "<p>589 rows × 1 columns</p>\n",
       "</div>"
      ],
      "text/plain": [
       "               0\n",
       "0         tahoua\n",
       "1        ushuaia\n",
       "2        iqaluit\n",
       "3     sungairaya\n",
       "4        mataura\n",
       "..           ...\n",
       "584      kartuzy\n",
       "585    tokamachi\n",
       "586     gunnedah\n",
       "587        praya\n",
       "588  nakasongola\n",
       "\n",
       "[589 rows x 1 columns]"
      ]
     },
     "execution_count": 23,
     "metadata": {},
     "output_type": "execute_result"
    }
   ],
   "source": [
    "#make a dataframe to hold the city weather information\n",
    "weather_df = pd.DataFrame(cities)\n",
    "weather_df"
   ]
  },
  {
   "cell_type": "markdown",
   "metadata": {},
   "source": [
    "### Perform API Calls\n",
    "* Perform a weather check on each city using a series of successive API calls.\n",
    "* Include a print log of each city as it'sbeing processed (with the city number and city name).\n"
   ]
  },
  {
   "cell_type": "code",
   "execution_count": 25,
   "metadata": {},
   "outputs": [
    {
     "data": {
      "text/plain": [
       "'http://api.openweathermap.org/data/2.5/weather?appid=b20144e5eabe2a61daa117f61ac4be5c&units=metric&q='"
      ]
     },
     "execution_count": 25,
     "metadata": {},
     "output_type": "execute_result"
    }
   ],
   "source": [
    "url = \"http://api.openweathermap.org/data/2.5/weather?\"\n",
    "units = \"metric\"\n",
    "\n",
    "# Build partial query URL\n",
    "query_url = f\"{url}appid={weather_api_key}&units={units}&q=\"\n",
    "query_url"
   ]
  },
  {
   "cell_type": "markdown",
   "metadata": {},
   "source": [
    "### Convert Raw Data to DataFrame\n",
    "* Export the city data into a .csv.\n",
    "* Display the DataFrame"
   ]
  },
  {
   "cell_type": "code",
   "execution_count": 26,
   "metadata": {
    "scrolled": true
   },
   "outputs": [
    {
     "name": "stdout",
     "output_type": "stream",
     "text": [
      "Processing record 1, tahoua\n",
      "Processing record 2, ushuaia\n",
      "Processing record 3, iqaluit\n",
      "Processing record 4, sungairaya\n",
      "Processing record 5, mataura\n",
      "Processing record 6, bambous virieux\n",
      "Processing record 7, kongolo\n",
      "Processing record 8, pizarro\n",
      "Missing result...skipping.\n",
      "Processing record 9, bluff\n",
      "Processing record 10, grindavik\n",
      "Missing result...skipping.\n",
      "Processing record 11, arraial do cabo\n",
      "Processing record 12, senador jose porfirio\n",
      "Processing record 13, baykit\n",
      "Processing record 14, sao filipe\n",
      "Processing record 15, bilibino\n",
      "Processing record 16, dikson\n",
      "Processing record 17, nikolskoye\n",
      "Processing record 18, rikitea\n",
      "Processing record 19, egvekinot\n",
      "Processing record 20, okhotsk\n",
      "Processing record 21, fortuna\n",
      "Processing record 22, la palma\n",
      "Processing record 23, yellowknife\n",
      "Processing record 24, castro\n",
      "Missing result...skipping.\n",
      "Processing record 25, lebu\n",
      "Processing record 26, fereydunshahr\n",
      "Processing record 27, nanortalik\n",
      "Processing record 28, makakilo city\n",
      "Processing record 29, jumla\n",
      "Processing record 30, banfora\n",
      "Processing record 31, rabo de peixe\n",
      "Processing record 32, guilin\n",
      "Processing record 33, narsaq\n",
      "Processing record 34, marsa matruh\n",
      "Processing record 35, cape town\n",
      "Processing record 36, karpinsk\n",
      "Processing record 37, port elizabeth\n",
      "Processing record 38, butaritari\n",
      "Processing record 39, esfarayen\n",
      "Processing record 40, nedjo\n",
      "Processing record 41, albany\n",
      "Processing record 42, chuy\n",
      "Processing record 43, punta arenas\n",
      "Processing record 44, port alfred\n",
      "Processing record 45, avarua\n",
      "Missing result...skipping.\n",
      "Missing result...skipping.\n",
      "Processing record 46, hermanus\n",
      "Processing record 47, bredasdorp\n",
      "Processing record 48, victoria\n",
      "Processing record 49, tuktoyaktuk\n",
      "Processing record 50, barrow\n",
      "Processing record 51, naryan-mar\n",
      "Missing result...skipping.\n",
      "Processing record 52, busselton\n",
      "Processing record 53, saskylakh\n",
      "Missing result...skipping.\n",
      "Processing record 54, jalu\n",
      "Processing record 55, nome\n",
      "Processing record 56, gizo\n",
      "Processing record 57, mitsamiouli\n",
      "Processing record 58, faanui\n",
      "Processing record 59, atuona\n",
      "Processing record 60, margate\n",
      "Processing record 61, mar del plata\n",
      "Processing record 62, ngunguru\n",
      "Processing record 63, peterhead\n",
      "Processing record 64, aloleng\n",
      "Processing record 65, khatanga\n",
      "Processing record 66, ust-omchug\n",
      "Processing record 67, gawler\n",
      "Processing record 68, hobart\n",
      "Processing record 69, vaini\n",
      "Processing record 70, roma\n",
      "Processing record 71, georgetown\n",
      "Processing record 72, zhigansk\n",
      "Processing record 73, bolshaya glushitsa\n",
      "Processing record 74, gallup\n",
      "Processing record 75, komsomolskiy\n",
      "Missing result...skipping.\n",
      "Processing record 76, hay river\n",
      "Processing record 77, ketchikan\n",
      "Processing record 78, souillac\n",
      "Processing record 79, clyde river\n",
      "Processing record 80, hilo\n",
      "Processing record 81, umm lajj\n",
      "Processing record 82, jiaocheng\n",
      "Processing record 83, boffa\n",
      "Processing record 84, vila velha\n",
      "Processing record 85, upernavik\n",
      "Processing record 86, saint-philippe\n",
      "Processing record 87, isla vista\n",
      "Processing record 88, worland\n",
      "Processing record 89, adrar\n",
      "Processing record 90, vestmanna\n",
      "Processing record 91, saint george\n",
      "Processing record 92, simbahan\n",
      "Processing record 93, jutai\n",
      "Processing record 94, ulladulla\n",
      "Processing record 95, mount gambier\n",
      "Processing record 96, lagoa\n",
      "Processing record 97, arvika\n",
      "Processing record 98, norman wells\n",
      "Processing record 99, haverfordwest\n",
      "Processing record 100, east london\n",
      "Missing result...skipping.\n",
      "Processing record 101, tiksi\n",
      "Processing record 102, yeniseysk\n",
      "Processing record 103, luderitz\n",
      "Processing record 104, qaanaaq\n",
      "Processing record 105, bosaso\n",
      "Processing record 106, cap-aux-meules\n",
      "Processing record 107, hualmay\n",
      "Processing record 108, avera\n",
      "Processing record 109, sitka\n",
      "Processing record 110, naze\n",
      "Processing record 111, flinders\n",
      "Processing record 112, marawi\n",
      "Processing record 113, jamestown\n",
      "Processing record 114, kaitangata\n",
      "Processing record 115, luangwa\n",
      "Processing record 116, kumphawapi\n",
      "Processing record 117, krasnopillya\n",
      "Processing record 118, teya\n",
      "Processing record 119, kathu\n",
      "Processing record 120, saint-francois\n",
      "Processing record 121, erenhot\n",
      "Processing record 122, dabakala\n",
      "Missing result...skipping.\n",
      "Processing record 123, auki\n",
      "Missing result...skipping.\n",
      "Processing record 124, do gonbadan\n",
      "Processing record 125, padang\n",
      "Processing record 126, serra talhada\n",
      "Processing record 127, lakes entrance\n",
      "Processing record 128, caravelas\n",
      "Processing record 129, srednekolymsk\n",
      "Processing record 130, nelidovo\n",
      "Missing result...skipping.\n",
      "Processing record 131, beloha\n",
      "Processing record 132, mahebourg\n",
      "Processing record 133, lock haven\n",
      "Processing record 134, lasa\n",
      "Processing record 135, gualaquiza\n",
      "Processing record 136, codrington\n",
      "Processing record 137, kertosono\n",
      "Processing record 138, qingdao\n",
      "Processing record 139, port hardy\n",
      "Processing record 140, san patricio\n",
      "Processing record 141, taguatinga\n",
      "Processing record 142, sao joao da barra\n",
      "Missing result...skipping.\n",
      "Missing result...skipping.\n",
      "Processing record 143, cidreira\n",
      "Processing record 144, luanda\n",
      "Processing record 145, asau\n",
      "Processing record 146, tres lagoas\n",
      "Processing record 147, isangel\n",
      "Processing record 148, la ronge\n",
      "Processing record 149, leshukonskoye\n",
      "Processing record 150, half moon bay\n",
      "Processing record 151, klaksvik\n",
      "Processing record 152, sarkand\n",
      "Processing record 153, ipswich\n",
      "Missing result...skipping.\n",
      "Processing record 154, richards bay\n",
      "Processing record 155, cherskiy\n",
      "Processing record 156, hamilton\n",
      "Processing record 157, kodiak\n",
      "Processing record 158, karratha\n",
      "Processing record 159, guiratinga\n",
      "Missing result...skipping.\n",
      "Processing record 160, kidal\n",
      "Processing record 161, ayan\n",
      "Processing record 162, lubao\n",
      "Processing record 163, inhambane\n",
      "Processing record 164, new norfolk\n",
      "Processing record 165, cololaca\n",
      "Processing record 166, soyo\n",
      "Processing record 167, poronaysk\n",
      "Processing record 168, marzuq\n",
      "Processing record 169, hofn\n",
      "Processing record 170, general roca\n",
      "Processing record 171, tagbac\n",
      "Processing record 172, fort nelson\n",
      "Processing record 173, port-gentil\n",
      "Processing record 174, nouadhibou\n",
      "Processing record 175, kieta\n",
      "Processing record 176, kerman\n",
      "Processing record 177, broome\n",
      "Processing record 178, kaeo\n",
      "Processing record 179, ixtapa\n",
      "Processing record 180, belyy yar\n",
      "Processing record 181, faya\n",
      "Missing result...skipping.\n",
      "Processing record 182, bethel\n",
      "Processing record 183, ndele\n",
      "Processing record 184, salekhard\n",
      "Processing record 185, constitucion\n",
      "Missing result...skipping.\n",
      "Processing record 186, nchelenge\n",
      "Processing record 187, portland\n",
      "Processing record 188, lorengau\n",
      "Processing record 189, launceston\n",
      "Processing record 190, mana\n",
      "Processing record 191, thompson\n",
      "Processing record 192, tsilna\n",
      "Processing record 193, lieksa\n",
      "Processing record 194, vestmannaeyjar\n",
      "Processing record 195, bengkulu\n",
      "Processing record 196, san juan\n",
      "Processing record 197, lompoc\n",
      "Processing record 198, santa rosa\n",
      "Processing record 199, goianapolis\n",
      "Processing record 200, kavieng\n",
      "Processing record 201, portalegre\n",
      "Processing record 202, flin flon\n",
      "Processing record 203, xihe\n",
      "Processing record 204, ponta do sol\n",
      "Processing record 205, mount isa\n",
      "Processing record 206, namibe\n",
      "Processing record 207, kavali\n",
      "Processing record 208, naron\n",
      "Processing record 209, wajir\n",
      "Processing record 210, carnarvon\n",
      "Processing record 211, rorvik\n",
      "Processing record 212, kapaa\n",
      "Processing record 213, chicama\n",
      "Processing record 214, batemans bay\n",
      "Processing record 215, coquimbo\n",
      "Processing record 216, touros\n",
      "Processing record 217, thinadhoo\n",
      "Processing record 218, da nang\n",
      "Processing record 219, ustye\n",
      "Processing record 220, sorland\n",
      "Processing record 221, parainen\n",
      "Processing record 222, tsabong\n",
      "Processing record 223, pemba\n",
      "Processing record 224, alice springs\n",
      "Processing record 225, takoradi\n",
      "Processing record 226, wlodawa\n",
      "Processing record 227, te anau\n",
      "Processing record 228, saky\n",
      "Processing record 229, opuwo\n",
      "Processing record 230, taybad\n",
      "Processing record 231, abu samrah\n",
      "Processing record 232, grand gaube\n",
      "Processing record 233, manassas park\n",
      "Processing record 234, nagar karnul\n",
      "Processing record 235, gat\n",
      "Processing record 236, junction city\n",
      "Processing record 237, high level\n",
      "Processing record 238, hasaki\n",
      "Processing record 239, port macquarie\n",
      "Missing result...skipping.\n",
      "Processing record 240, palmer\n",
      "Processing record 241, manta\n",
      "Missing result...skipping.\n",
      "Processing record 242, bud\n"
     ]
    },
    {
     "name": "stdout",
     "output_type": "stream",
     "text": [
      "Processing record 243, hambantota\n",
      "Processing record 244, sisimiut\n",
      "Processing record 245, mombetsu\n",
      "Processing record 246, lodwar\n",
      "Processing record 247, krasnoselkup\n",
      "Processing record 248, bolshaya martynovka\n",
      "Processing record 249, paamiut\n",
      "Processing record 250, candido mendes\n",
      "Processing record 251, migori\n",
      "Processing record 252, acapulco\n",
      "Processing record 253, dinagat\n",
      "Processing record 254, ishinomaki\n",
      "Processing record 255, batesville\n",
      "Processing record 256, saldanha\n",
      "Processing record 257, alofi\n",
      "Processing record 258, ilulissat\n",
      "Processing record 259, ribeira grande\n",
      "Processing record 260, tasiilaq\n",
      "Processing record 261, bambanglipuro\n",
      "Processing record 262, cherdakly\n",
      "Processing record 263, along\n",
      "Processing record 264, ancud\n",
      "Processing record 265, tabas\n",
      "Processing record 266, esperance\n",
      "Processing record 267, ambilobe\n",
      "Processing record 268, yakeshi\n",
      "Processing record 269, chokurdakh\n",
      "Processing record 270, olafsvik\n",
      "Processing record 271, sambava\n",
      "Processing record 272, herat\n",
      "Processing record 273, taoudenni\n",
      "Processing record 274, lensk\n",
      "Processing record 275, cururupu\n",
      "Processing record 276, talnakh\n",
      "Processing record 277, katsuura\n",
      "Missing result...skipping.\n",
      "Processing record 278, kalabo\n",
      "Processing record 279, harper\n",
      "Processing record 280, provideniya\n",
      "Processing record 281, puerto ayora\n",
      "Processing record 282, povenets\n",
      "Processing record 283, brive-la-gaillarde\n",
      "Processing record 284, yulara\n",
      "Processing record 285, cabo san lucas\n",
      "Processing record 286, khuzhir\n",
      "Processing record 287, hengyang\n",
      "Processing record 288, inuvik\n",
      "Processing record 289, sola\n",
      "Processing record 290, ponta delgada\n",
      "Processing record 291, oussouye\n",
      "Processing record 292, verkhnyaya inta\n",
      "Processing record 293, ornskoldsvik\n",
      "Processing record 294, hami\n",
      "Processing record 295, dunedin\n",
      "Processing record 296, verkhnevilyuysk\n",
      "Processing record 297, newport\n",
      "Processing record 298, tateyama\n",
      "Processing record 299, mehamn\n",
      "Processing record 300, teguise\n",
      "Processing record 301, kihei\n",
      "Processing record 302, petropavlovsk-kamchatskiy\n",
      "Processing record 303, vao\n",
      "Processing record 304, geraldton\n",
      "Missing result...skipping.\n",
      "Missing result...skipping.\n",
      "Processing record 305, bubaque\n",
      "Processing record 306, bijawar\n",
      "Processing record 307, batagay-alyta\n",
      "Processing record 308, shingu\n",
      "Processing record 309, torbay\n",
      "Processing record 310, severo-kurilsk\n",
      "Processing record 311, fukue\n",
      "Processing record 312, wagar\n",
      "Processing record 313, coahuayana\n",
      "Processing record 314, whyalla\n",
      "Missing result...skipping.\n",
      "Missing result...skipping.\n",
      "Missing result...skipping.\n",
      "Missing result...skipping.\n",
      "Processing record 315, cavalcante\n",
      "Processing record 316, bonnyville\n",
      "Processing record 317, kavaratti\n",
      "Processing record 318, pevek\n",
      "Processing record 319, casablanca\n",
      "Processing record 320, pula\n",
      "Processing record 321, waipawa\n",
      "Processing record 322, hithadhoo\n",
      "Processing record 323, la rioja\n",
      "Processing record 324, juneau\n",
      "Processing record 325, mayumba\n",
      "Processing record 326, tramore\n",
      "Processing record 327, kruisfontein\n",
      "Processing record 328, markova\n",
      "Missing result...skipping.\n",
      "Processing record 329, koror\n",
      "Processing record 330, vila\n",
      "Processing record 331, horsham\n",
      "Processing record 332, glendive\n",
      "Processing record 333, mezen\n",
      "Processing record 334, tessalit\n",
      "Processing record 335, lata\n",
      "Processing record 336, aklavik\n",
      "Processing record 337, nioro\n",
      "Processing record 338, barkhan\n",
      "Processing record 339, esso\n",
      "Processing record 340, san vicente\n",
      "Processing record 341, meulaboh\n",
      "Processing record 342, cayenne\n",
      "Processing record 343, maragogi\n",
      "Processing record 344, salalah\n",
      "Processing record 345, saint-augustin\n",
      "Missing result...skipping.\n",
      "Processing record 346, tromso\n",
      "Processing record 347, liwonde\n",
      "Processing record 348, itupeva\n",
      "Missing result...skipping.\n",
      "Processing record 349, arlit\n",
      "Processing record 350, atar\n",
      "Processing record 351, rocha\n",
      "Processing record 352, kamarion\n",
      "Processing record 353, takhtamygda\n",
      "Missing result...skipping.\n",
      "Processing record 354, berlevag\n",
      "Processing record 355, yabelo\n",
      "Processing record 356, bonthe\n",
      "Processing record 357, singaraja\n",
      "Processing record 358, camacha\n",
      "Processing record 359, morondava\n",
      "Processing record 360, boende\n",
      "Processing record 361, abu zabad\n",
      "Processing record 362, xiongyue\n",
      "Processing record 363, sesheke\n",
      "Processing record 364, the pas\n",
      "Processing record 365, ginda\n",
      "Processing record 366, nacozari\n",
      "Processing record 367, praia da vitoria\n",
      "Processing record 368, qurayyat\n",
      "Processing record 369, nuuk\n",
      "Processing record 370, ibra\n",
      "Processing record 371, lima duarte\n",
      "Processing record 372, kapit\n",
      "Processing record 373, bolu\n",
      "Processing record 374, santa maria\n",
      "Missing result...skipping.\n",
      "Processing record 375, kainantu\n",
      "Processing record 376, dongning\n",
      "Processing record 377, insch\n",
      "Processing record 378, rincon\n",
      "Processing record 379, saint-pierre\n",
      "Processing record 380, san ramon\n",
      "Processing record 381, sao borja\n",
      "Processing record 382, belaya\n",
      "Processing record 383, roald\n",
      "Processing record 384, hare bay\n",
      "Processing record 385, linxia\n",
      "Processing record 386, khandbari\n",
      "Processing record 387, belaya gora\n",
      "Processing record 388, haines junction\n",
      "Processing record 389, vila franca do campo\n",
      "Missing result...skipping.\n",
      "Missing result...skipping.\n",
      "Processing record 390, great bend\n",
      "Processing record 391, eureka\n",
      "Missing result...skipping.\n",
      "Missing result...skipping.\n",
      "Processing record 392, long\n",
      "Processing record 393, gondanglegi\n",
      "Processing record 394, mata grande\n",
      "Processing record 395, puerto escondido\n",
      "Processing record 396, caluquembe\n",
      "Processing record 397, coihaique\n",
      "Processing record 398, ranong\n",
      "Processing record 399, san quintin\n",
      "Processing record 400, puquio\n",
      "Processing record 401, rawson\n",
      "Processing record 402, oum hadjer\n",
      "Missing result...skipping.\n",
      "Processing record 403, miri\n",
      "Processing record 404, broken hill\n",
      "Processing record 405, havoysund\n",
      "Missing result...skipping.\n",
      "Processing record 406, lumberton\n",
      "Processing record 407, uttaradit\n",
      "Processing record 408, kahului\n",
      "Processing record 409, sauda\n",
      "Processing record 410, san cristobal\n",
      "Processing record 411, tual\n",
      "Missing result...skipping.\n",
      "Missing result...skipping.\n",
      "Processing record 412, bireun\n",
      "Processing record 413, aksarka\n",
      "Processing record 414, verkhoyansk\n",
      "Processing record 415, angoche\n",
      "Processing record 416, novopskov\n",
      "Processing record 417, husavik\n",
      "Processing record 418, manicore\n",
      "Missing result...skipping.\n",
      "Processing record 419, rio rancho\n",
      "Processing record 420, santiago de cao\n",
      "Processing record 421, mayo\n",
      "Processing record 422, keflavik\n",
      "Processing record 423, sur\n",
      "Processing record 424, darab\n",
      "Processing record 425, santa cruz do sul\n",
      "Processing record 426, farah\n",
      "Processing record 427, namatanai\n",
      "Processing record 428, xiaoweizhai\n",
      "Processing record 429, toba\n",
      "Processing record 430, masuguru\n",
      "Processing record 431, monte alegre\n",
      "Processing record 432, fasa\n",
      "Processing record 433, aripuana\n",
      "Processing record 434, halifax\n",
      "Processing record 435, wattegama\n",
      "Processing record 436, vrangel\n",
      "Processing record 437, hutchinson\n",
      "Processing record 438, lalmohan\n",
      "Processing record 439, ostrovnoy\n",
      "Processing record 440, polyarnyy\n",
      "Processing record 441, longyearbyen\n",
      "Missing result...skipping.\n",
      "Processing record 442, boa vista\n",
      "Missing result...skipping.\n",
      "Processing record 443, ayr\n",
      "Processing record 444, miles city\n",
      "Processing record 445, hirara\n",
      "Processing record 446, mnogovershinnyy\n",
      "Processing record 447, sao pedro\n",
      "Processing record 448, brigantine\n",
      "Missing result...skipping.\n",
      "Processing record 449, tuatapere\n",
      "Processing record 450, igarka\n",
      "Processing record 451, berdigestyakh\n",
      "Processing record 452, carndonagh\n",
      "Processing record 453, vaasa\n",
      "Processing record 454, sorong\n",
      "Processing record 455, labuhan\n",
      "Processing record 456, maluso\n",
      "Processing record 457, kaoma\n",
      "Processing record 458, saint-louis\n",
      "Processing record 459, les cayes\n",
      "Processing record 460, haukipudas\n",
      "Processing record 461, fairbanks\n",
      "Processing record 462, moron\n",
      "Processing record 463, port hedland\n",
      "Processing record 464, san martin\n",
      "Processing record 465, mersing\n",
      "Processing record 466, kutum\n",
      "Processing record 467, wana\n",
      "Processing record 468, el alto\n",
      "Processing record 469, port lincoln\n",
      "Processing record 470, effingham\n",
      "Processing record 471, ostersund\n",
      "Processing record 472, lundazi\n",
      "Processing record 473, hinatuan\n",
      "Processing record 474, salmo\n",
      "Processing record 475, port blair\n",
      "Missing result...skipping.\n",
      "Processing record 476, velingara\n",
      "Processing record 477, san policarpo\n"
     ]
    },
    {
     "name": "stdout",
     "output_type": "stream",
     "text": [
      "Processing record 478, grez-doiceau\n",
      "Processing record 479, quatre cocos\n",
      "Processing record 480, acari\n",
      "Processing record 481, caucaia\n",
      "Processing record 482, ewa beach\n",
      "Missing result...skipping.\n",
      "Processing record 483, sri aman\n",
      "Processing record 484, robertsganj\n",
      "Missing result...skipping.\n",
      "Processing record 485, kokstad\n",
      "Processing record 486, korla\n",
      "Processing record 487, vanimo\n",
      "Processing record 488, bar harbor\n",
      "Processing record 489, vallenar\n",
      "Processing record 490, shache\n",
      "Processing record 491, shenjiamen\n",
      "Processing record 492, abu dhabi\n",
      "Processing record 493, yuncheng\n",
      "Processing record 494, dawlatabad\n",
      "Processing record 495, barpeta\n",
      "Processing record 496, dickinson\n",
      "Processing record 497, beinamar\n",
      "Processing record 498, aasiaat\n",
      "Processing record 499, amapa\n",
      "Processing record 500, leningradskiy\n",
      "Processing record 501, bourail\n",
      "Missing result...skipping.\n",
      "Processing record 502, barranca\n",
      "Processing record 503, taunggyi\n",
      "Processing record 504, carutapera\n",
      "Processing record 505, parma\n",
      "Processing record 506, yashan\n",
      "Missing result...skipping.\n",
      "Processing record 507, hudiksvall\n",
      "Processing record 508, porterville\n",
      "Processing record 509, tura\n",
      "Processing record 510, basco\n",
      "Processing record 511, chumikan\n",
      "Missing result...skipping.\n",
      "Processing record 512, teignmouth\n",
      "Processing record 513, inverell\n",
      "Processing record 514, vagur\n",
      "Processing record 515, montlucon\n",
      "Processing record 516, agirish\n",
      "Processing record 517, anadyr\n",
      "Processing record 518, bandar\n",
      "Processing record 519, carbonia\n",
      "Processing record 520, caninde\n",
      "Processing record 521, bafoulabe\n",
      "Processing record 522, guadalajara\n",
      "Processing record 523, bogo\n",
      "Processing record 524, milas\n",
      "Processing record 525, yumen\n",
      "Missing result...skipping.\n",
      "Processing record 526, natal\n",
      "Processing record 527, turukhansk\n",
      "Processing record 528, barinas\n",
      "Missing result...skipping.\n",
      "Processing record 529, pekan\n",
      "Processing record 530, klamath falls\n",
      "Missing result...skipping.\n",
      "Processing record 531, raga\n",
      "Processing record 532, kartuzy\n",
      "Processing record 533, tokamachi\n",
      "Processing record 534, gunnedah\n",
      "Processing record 535, praya\n",
      "Processing record 536, nakasongola\n"
     ]
    }
   ],
   "source": [
    "\n",
    "counter = 1\n",
    "\n",
    "for index, row in weather_df.iterrows():\n",
    "    city = row[0]\n",
    "    response = requests.get(query_url + city).json()\n",
    "    try:     \n",
    "        weather_df.loc[index, 'temp'] = response['main']['temp']\n",
    "        weather_df.loc[index, 'lat'] = response['coord']['lat']\n",
    "        weather_df.loc[index, 'hum'] = response['main']['humidity']\n",
    "        weather_df.loc[index, 'cloud'] = response['clouds']['all']\n",
    "        weather_df.loc[index, 'wind'] = response['wind']['speed']\n",
    "        \n",
    "        #temps.append(response['main']['temp'])\n",
    "        #lat.append(response['coord']['lat'])\n",
    "        #hum.append(response['main']['humidity'])\n",
    "        #cloud.append(response['clouds']['all'])\n",
    "        #wind.append(response['wind']['speed'])\n",
    "        \n",
    "        print(f\"Processing record {counter}, {city}\")\n",
    "        counter = counter + 1\n",
    "    except (KeyError):\n",
    "        print(\"Missing result...skipping.\")\n",
    "        \n",
    "    "
   ]
  },
  {
   "cell_type": "code",
   "execution_count": 27,
   "metadata": {},
   "outputs": [
    {
     "data": {
      "text/html": [
       "<div>\n",
       "<style scoped>\n",
       "    .dataframe tbody tr th:only-of-type {\n",
       "        vertical-align: middle;\n",
       "    }\n",
       "\n",
       "    .dataframe tbody tr th {\n",
       "        vertical-align: top;\n",
       "    }\n",
       "\n",
       "    .dataframe thead th {\n",
       "        text-align: right;\n",
       "    }\n",
       "</style>\n",
       "<table border=\"1\" class=\"dataframe\">\n",
       "  <thead>\n",
       "    <tr style=\"text-align: right;\">\n",
       "      <th></th>\n",
       "      <th>0</th>\n",
       "      <th>temp</th>\n",
       "      <th>lat</th>\n",
       "      <th>hum</th>\n",
       "      <th>cloud</th>\n",
       "      <th>wind</th>\n",
       "    </tr>\n",
       "  </thead>\n",
       "  <tbody>\n",
       "    <tr>\n",
       "      <td>0</td>\n",
       "      <td>tahoua</td>\n",
       "      <td>37.00</td>\n",
       "      <td>14.89</td>\n",
       "      <td>7.0</td>\n",
       "      <td>61.0</td>\n",
       "      <td>3.10</td>\n",
       "    </tr>\n",
       "    <tr>\n",
       "      <td>1</td>\n",
       "      <td>ushuaia</td>\n",
       "      <td>13.00</td>\n",
       "      <td>-54.80</td>\n",
       "      <td>54.0</td>\n",
       "      <td>75.0</td>\n",
       "      <td>8.20</td>\n",
       "    </tr>\n",
       "    <tr>\n",
       "      <td>2</td>\n",
       "      <td>iqaluit</td>\n",
       "      <td>-26.83</td>\n",
       "      <td>63.75</td>\n",
       "      <td>68.0</td>\n",
       "      <td>20.0</td>\n",
       "      <td>5.10</td>\n",
       "    </tr>\n",
       "    <tr>\n",
       "      <td>3</td>\n",
       "      <td>sungairaya</td>\n",
       "      <td>23.70</td>\n",
       "      <td>0.70</td>\n",
       "      <td>95.0</td>\n",
       "      <td>82.0</td>\n",
       "      <td>1.47</td>\n",
       "    </tr>\n",
       "    <tr>\n",
       "      <td>4</td>\n",
       "      <td>mataura</td>\n",
       "      <td>11.11</td>\n",
       "      <td>-46.19</td>\n",
       "      <td>92.0</td>\n",
       "      <td>56.0</td>\n",
       "      <td>0.45</td>\n",
       "    </tr>\n",
       "    <tr>\n",
       "      <td>...</td>\n",
       "      <td>...</td>\n",
       "      <td>...</td>\n",
       "      <td>...</td>\n",
       "      <td>...</td>\n",
       "      <td>...</td>\n",
       "      <td>...</td>\n",
       "    </tr>\n",
       "    <tr>\n",
       "      <td>584</td>\n",
       "      <td>kartuzy</td>\n",
       "      <td>7.55</td>\n",
       "      <td>54.33</td>\n",
       "      <td>89.0</td>\n",
       "      <td>96.0</td>\n",
       "      <td>4.10</td>\n",
       "    </tr>\n",
       "    <tr>\n",
       "      <td>585</td>\n",
       "      <td>tokamachi</td>\n",
       "      <td>3.58</td>\n",
       "      <td>37.13</td>\n",
       "      <td>80.0</td>\n",
       "      <td>100.0</td>\n",
       "      <td>3.25</td>\n",
       "    </tr>\n",
       "    <tr>\n",
       "      <td>586</td>\n",
       "      <td>gunnedah</td>\n",
       "      <td>18.00</td>\n",
       "      <td>-30.98</td>\n",
       "      <td>93.0</td>\n",
       "      <td>78.0</td>\n",
       "      <td>2.10</td>\n",
       "    </tr>\n",
       "    <tr>\n",
       "      <td>587</td>\n",
       "      <td>praya</td>\n",
       "      <td>27.00</td>\n",
       "      <td>14.92</td>\n",
       "      <td>42.0</td>\n",
       "      <td>36.0</td>\n",
       "      <td>10.80</td>\n",
       "    </tr>\n",
       "    <tr>\n",
       "      <td>588</td>\n",
       "      <td>nakasongola</td>\n",
       "      <td>25.52</td>\n",
       "      <td>1.31</td>\n",
       "      <td>55.0</td>\n",
       "      <td>87.0</td>\n",
       "      <td>3.25</td>\n",
       "    </tr>\n",
       "  </tbody>\n",
       "</table>\n",
       "<p>589 rows × 6 columns</p>\n",
       "</div>"
      ],
      "text/plain": [
       "               0   temp    lat   hum  cloud   wind\n",
       "0         tahoua  37.00  14.89   7.0   61.0   3.10\n",
       "1        ushuaia  13.00 -54.80  54.0   75.0   8.20\n",
       "2        iqaluit -26.83  63.75  68.0   20.0   5.10\n",
       "3     sungairaya  23.70   0.70  95.0   82.0   1.47\n",
       "4        mataura  11.11 -46.19  92.0   56.0   0.45\n",
       "..           ...    ...    ...   ...    ...    ...\n",
       "584      kartuzy   7.55  54.33  89.0   96.0   4.10\n",
       "585    tokamachi   3.58  37.13  80.0  100.0   3.25\n",
       "586     gunnedah  18.00 -30.98  93.0   78.0   2.10\n",
       "587        praya  27.00  14.92  42.0   36.0  10.80\n",
       "588  nakasongola  25.52   1.31  55.0   87.0   3.25\n",
       "\n",
       "[589 rows x 6 columns]"
      ]
     },
     "execution_count": 27,
     "metadata": {},
     "output_type": "execute_result"
    }
   ],
   "source": [
    "weather_df"
   ]
  },
  {
   "cell_type": "markdown",
   "metadata": {},
   "source": [
    "### Plotting the Data\n",
    "* Use proper labeling of the plots using plot titles (including date of analysis) and axes labels.\n",
    "* Save the plotted figures as .pngs."
   ]
  },
  {
   "cell_type": "markdown",
   "metadata": {},
   "source": [
    "#### Latitude vs. Temperature Plot"
   ]
  },
  {
   "cell_type": "code",
   "execution_count": 31,
   "metadata": {
    "scrolled": true
   },
   "outputs": [
    {
     "data": {
      "text/plain": [
       "Text(0, 0.5, 'Temperature')"
      ]
     },
     "execution_count": 31,
     "metadata": {},
     "output_type": "execute_result"
    },
    {
     "data": {
      "image/png": "[encoded data removed]",
      "text/plain": [
       "<Figure size 432x288 with 1 Axes>"
      ]
     },
     "metadata": {
      "needs_background": "light"
     },
     "output_type": "display_data"
    }
   ],
   "source": [
    "x_values = weather_df['lat']\n",
    "y_values = weather_df['temp']\n",
    "plt.scatter(x_values, y_values)\n",
    "plt.title(\"Temperture vs. Latitude for Cities 3/1/2019\")\n",
    "plt.xlabel('Latitude')\n",
    "plt.ylabel('Temperature')"
   ]
  },
  {
   "cell_type": "markdown",
   "metadata": {},
   "source": [
    "#### Latitude vs. Humidity Plot"
   ]
  },
  {
   "cell_type": "code",
   "execution_count": 32,
   "metadata": {},
   "outputs": [
    {
     "data": {
      "text/plain": [
       "Text(0, 0.5, 'Humidity')"
      ]
     },
     "execution_count": 32,
     "metadata": {},
     "output_type": "execute_result"
    },
    {
     "data": {
      "image/png": "[encoded data removed]",
      "text/plain": [
       "<Figure size 432x288 with 1 Axes>"
      ]
     },
     "metadata": {
      "needs_background": "light"
     },
     "output_type": "display_data"
    }
   ],
   "source": [
    "x_values = weather_df['lat']\n",
    "y_values = weather_df['hum']\n",
    "plt.scatter(x_values, y_values)\n",
    "plt.title(\"Humidity vs. Latitude for Cities 3/1/2019\")\n",
    "plt.xlabel('Latitude')\n",
    "plt.ylabel('Humidity')"
   ]
  },
  {
   "cell_type": "markdown",
   "metadata": {},
   "source": [
    "#### Latitude vs. Cloudiness Plot"
   ]
  },
  {
   "cell_type": "code",
   "execution_count": 33,
   "metadata": {},
   "outputs": [
    {
     "data": {
      "text/plain": [
       "Text(0, 0.5, 'Cloudiness')"
      ]
     },
     "execution_count": 33,
     "metadata": {},
     "output_type": "execute_result"
    },
    {
     "data": {
      "image/png": "[encoded data removed]",
      "text/plain": [
       "<Figure size 432x288 with 1 Axes>"
      ]
     },
     "metadata": {
      "needs_background": "light"
     },
     "output_type": "display_data"
    }
   ],
   "source": [
    "x_values = weather_df['lat']\n",
    "y_values = weather_df['cloud']\n",
    "plt.scatter(x_values, y_values)\n",
    "plt.title(\"Cloudiness vs. Latitude for Cities 3/1/2019\")\n",
    "plt.xlabel('Latitude')\n",
    "plt.ylabel('Cloudiness')"
   ]
  },
  {
   "cell_type": "markdown",
   "metadata": {},
   "source": [
    "#### Latitude vs. Wind Speed Plot"
   ]
  },
  {
   "cell_type": "code",
   "execution_count": 34,
   "metadata": {},
   "outputs": [
    {
     "data": {
      "text/plain": [
       "Text(0, 0.5, 'Wind Speed')"
      ]
     },
     "execution_count": 34,
     "metadata": {},
     "output_type": "execute_result"
    },
    {
     "data": {
      "image/png": "[encoded data removed]",
      "text/plain": [
       "<Figure size 432x288 with 1 Axes>"
      ]
     },
     "metadata": {
      "needs_background": "light"
     },
     "output_type": "display_data"
    }
   ],
   "source": [
    "x_values = weather_df['lat']\n",
    "y_values = weather_df['wind']\n",
    "plt.scatter(x_values, y_values)\n",
    "plt.title(\"Wind Speed vs. Latitude for Cities 3/1/2019\")\n",
    "plt.xlabel('Latitude')\n",
    "plt.ylabel('Wind Speed')"
   ]
  },
  {
   "cell_type": "markdown",
   "metadata": {},
   "source": [
    "## Linear Regression"
   ]
  },
  {
   "cell_type": "code",
   "execution_count": 99,
   "metadata": {},
   "outputs": [],
   "source": [
    "# OPTIONAL: Create a function to create Linear Regression plots\n",
    "# Perform a linear regression on temperature vs. latitude\n",
    "from scipy import stats\n",
    "def lin_reg():\n",
    "    (slope, intercept, rvalue, pvalue, stderr) = stats.linregress(x_values, y_values)\n",
    "    # Get regression values\n",
    "    regress_values = x_values * slope + intercept\n",
    "    # Create line equation string\n",
    "    line_eq = \"y = \" + str(round(slope,2)) + \"x +\" + str(round(intercept,2))\n",
    "    plt.plot(x_values,regress_values,\"r-\")\n",
    "    \n",
    "    #plt.annotate(line_eq, xy=(0.05, 0.95), xycoords='axes fraction', fonstsize=15, color='red')\n",
    "    plt.annotate(line_eq, xy=(0,1), fontsize=15,color=\"red\")\n",
    "    \n",
    "    #plt.legend(line_eq, loc='best', fontsize='small', fancybox=True, framealpha=0.7, handlelength=0, handletextpad=0)\n",
    "    #Print r square value\n",
    "    print(f\"The r-squared is: {rvalue}\")\n",
    "    print(line_eq)\n",
    "    print(regress_values)"
   ]
  },
  {
   "cell_type": "code",
   "execution_count": 100,
   "metadata": {},
   "outputs": [
    {
     "data": {
      "text/html": [
       "<div>\n",
       "<style scoped>\n",
       "    .dataframe tbody tr th:only-of-type {\n",
       "        vertical-align: middle;\n",
       "    }\n",
       "\n",
       "    .dataframe tbody tr th {\n",
       "        vertical-align: top;\n",
       "    }\n",
       "\n",
       "    .dataframe thead th {\n",
       "        text-align: right;\n",
       "    }\n",
       "</style>\n",
       "<table border=\"1\" class=\"dataframe\">\n",
       "  <thead>\n",
       "    <tr style=\"text-align: right;\">\n",
       "      <th></th>\n",
       "      <th>0</th>\n",
       "      <th>temp</th>\n",
       "      <th>lat</th>\n",
       "      <th>hum</th>\n",
       "      <th>cloud</th>\n",
       "      <th>wind</th>\n",
       "    </tr>\n",
       "  </thead>\n",
       "  <tbody>\n",
       "    <tr>\n",
       "      <td>1</td>\n",
       "      <td>ushuaia</td>\n",
       "      <td>13.00</td>\n",
       "      <td>-54.80</td>\n",
       "      <td>54.0</td>\n",
       "      <td>75.0</td>\n",
       "      <td>8.20</td>\n",
       "    </tr>\n",
       "    <tr>\n",
       "      <td>4</td>\n",
       "      <td>mataura</td>\n",
       "      <td>11.11</td>\n",
       "      <td>-46.19</td>\n",
       "      <td>92.0</td>\n",
       "      <td>56.0</td>\n",
       "      <td>0.45</td>\n",
       "    </tr>\n",
       "    <tr>\n",
       "      <td>5</td>\n",
       "      <td>bambous virieux</td>\n",
       "      <td>26.87</td>\n",
       "      <td>-20.34</td>\n",
       "      <td>88.0</td>\n",
       "      <td>40.0</td>\n",
       "      <td>1.50</td>\n",
       "    </tr>\n",
       "    <tr>\n",
       "      <td>6</td>\n",
       "      <td>kongolo</td>\n",
       "      <td>20.80</td>\n",
       "      <td>-5.38</td>\n",
       "      <td>98.0</td>\n",
       "      <td>100.0</td>\n",
       "      <td>1.26</td>\n",
       "    </tr>\n",
       "    <tr>\n",
       "      <td>9</td>\n",
       "      <td>bluff</td>\n",
       "      <td>11.11</td>\n",
       "      <td>-46.60</td>\n",
       "      <td>92.0</td>\n",
       "      <td>56.0</td>\n",
       "      <td>0.45</td>\n",
       "    </tr>\n",
       "    <tr>\n",
       "      <td>...</td>\n",
       "      <td>...</td>\n",
       "      <td>...</td>\n",
       "      <td>...</td>\n",
       "      <td>...</td>\n",
       "      <td>...</td>\n",
       "      <td>...</td>\n",
       "    </tr>\n",
       "    <tr>\n",
       "      <td>551</td>\n",
       "      <td>carutapera</td>\n",
       "      <td>28.35</td>\n",
       "      <td>-1.20</td>\n",
       "      <td>74.0</td>\n",
       "      <td>1.0</td>\n",
       "      <td>4.81</td>\n",
       "    </tr>\n",
       "    <tr>\n",
       "      <td>562</td>\n",
       "      <td>inverell</td>\n",
       "      <td>17.40</td>\n",
       "      <td>-29.78</td>\n",
       "      <td>86.0</td>\n",
       "      <td>73.0</td>\n",
       "      <td>1.64</td>\n",
       "    </tr>\n",
       "    <tr>\n",
       "      <td>569</td>\n",
       "      <td>caninde</td>\n",
       "      <td>27.42</td>\n",
       "      <td>-4.36</td>\n",
       "      <td>78.0</td>\n",
       "      <td>100.0</td>\n",
       "      <td>2.58</td>\n",
       "    </tr>\n",
       "    <tr>\n",
       "      <td>576</td>\n",
       "      <td>natal</td>\n",
       "      <td>27.02</td>\n",
       "      <td>-5.79</td>\n",
       "      <td>74.0</td>\n",
       "      <td>75.0</td>\n",
       "      <td>5.70</td>\n",
       "    </tr>\n",
       "    <tr>\n",
       "      <td>586</td>\n",
       "      <td>gunnedah</td>\n",
       "      <td>18.00</td>\n",
       "      <td>-30.98</td>\n",
       "      <td>93.0</td>\n",
       "      <td>78.0</td>\n",
       "      <td>2.10</td>\n",
       "    </tr>\n",
       "  </tbody>\n",
       "</table>\n",
       "<p>166 rows × 6 columns</p>\n",
       "</div>"
      ],
      "text/plain": [
       "                   0   temp    lat   hum  cloud  wind\n",
       "1            ushuaia  13.00 -54.80  54.0   75.0  8.20\n",
       "4            mataura  11.11 -46.19  92.0   56.0  0.45\n",
       "5    bambous virieux  26.87 -20.34  88.0   40.0  1.50\n",
       "6            kongolo  20.80  -5.38  98.0  100.0  1.26\n",
       "9              bluff  11.11 -46.60  92.0   56.0  0.45\n",
       "..               ...    ...    ...   ...    ...   ...\n",
       "551       carutapera  28.35  -1.20  74.0    1.0  4.81\n",
       "562         inverell  17.40 -29.78  86.0   73.0  1.64\n",
       "569          caninde  27.42  -4.36  78.0  100.0  2.58\n",
       "576            natal  27.02  -5.79  74.0   75.0  5.70\n",
       "586         gunnedah  18.00 -30.98  93.0   78.0  2.10\n",
       "\n",
       "[166 rows x 6 columns]"
      ]
     },
     "execution_count": 100,
     "metadata": {},
     "output_type": "execute_result"
    }
   ],
   "source": [
    "# Create Northern and Southern Hemisphere DataFrames\n",
    "#example from stackoverflow: cust_sell = mainDf[mainDf.Type == 'S']\n",
    "northern_df = weather_df[weather_df.lat > 0]\n",
    "#northern_df\n",
    "southern_df = weather_df[weather_df.lat < 0]\n",
    "southern_df"
   ]
  },
  {
   "cell_type": "markdown",
   "metadata": {},
   "source": [
    "####  Northern Hemisphere - Max Temp vs. Latitude Linear Regression"
   ]
  },
  {
   "cell_type": "code",
   "execution_count": 101,
   "metadata": {},
   "outputs": [
    {
     "name": "stdout",
     "output_type": "stream",
     "text": [
      "The r-squared is: -0.8967717630394944\n",
      "y = -0.72x +35.62\n",
      "0      24.838531\n",
      "2     -10.528520\n",
      "3      35.109887\n",
      "7      32.033547\n",
      "10    -10.593666\n",
      "         ...    \n",
      "583    29.492853\n",
      "584    -3.709903\n",
      "585     8.740226\n",
      "587    24.816816\n",
      "588    34.668342\n",
      "Name: lat, Length: 370, dtype: float64\n"
     ]
    },
    {
     "data": {
      "image/png": "[encoded data removed]",
      "text/plain": [
       "<Figure size 432x288 with 1 Axes>"
      ]
     },
     "metadata": {
      "needs_background": "light"
     },
     "output_type": "display_data"
    }
   ],
   "source": [
    "x_values = northern_df['lat']\n",
    "y_values = northern_df['temp']\n",
    "plt.scatter(x_values,y_values)\n",
    "plt.title('Max Temperature vs. Latitude in the Northern Hemisphere 3/1/2019')\n",
    "plt.xlabel('Latitude')\n",
    "plt.ylabel('Max Temperature')\n",
    "lin_reg()\n",
    "plt.show()\n"
   ]
  },
  {
   "cell_type": "markdown",
   "metadata": {},
   "source": [
    "####  Southern Hemisphere - Max Temp vs. Latitude Linear Regression"
   ]
  },
  {
   "cell_type": "code",
   "execution_count": 92,
   "metadata": {},
   "outputs": [
    {
     "name": "stdout",
     "output_type": "stream",
     "text": [
      "The r-squared is: 0.527258963329892\n",
      "y = 0.21x +28.03\n",
      "1      16.618276\n",
      "4      18.411355\n",
      "5      23.794755\n",
      "6      26.910255\n",
      "9      18.325970\n",
      "         ...    \n",
      "551    27.780762\n",
      "562    21.828825\n",
      "569    27.122675\n",
      "576    26.824870\n",
      "586    21.578918\n",
      "Name: lat, Length: 166, dtype: float64\n"
     ]
    },
    {
     "data": {
      "image/png": "[encoded data removed]",
      "text/plain": [
       "<Figure size 432x288 with 1 Axes>"
      ]
     },
     "metadata": {
      "needs_background": "light"
     },
     "output_type": "display_data"
    }
   ],
   "source": [
    "x_values = southern_df['lat']\n",
    "y_values = southern_df['temp']\n",
    "plt.scatter(x_values,y_values)\n",
    "plt.title('Max Temperature vs. Latitude in the Southern Hemisphere 3/1/2019')\n",
    "plt.xlabel('Latitude')\n",
    "plt.ylabel('Max Temperature')\n",
    "lin_reg()\n",
    "plt.show()"
   ]
  },
  {
   "cell_type": "markdown",
   "metadata": {},
   "source": [
    "####  Northern Hemisphere - Humidity (%) vs. Latitude Linear Regression"
   ]
  },
  {
   "cell_type": "code",
   "execution_count": 102,
   "metadata": {},
   "outputs": [
    {
     "name": "stdout",
     "output_type": "stream",
     "text": [
      "The r-squared is: 0.3516839096493197\n",
      "y = 0.4x +52.43\n",
      "0      58.322861\n",
      "2      77.674960\n",
      "3      52.702593\n",
      "7      54.385901\n",
      "10     77.710607\n",
      "         ...    \n",
      "583    55.776115\n",
      "584    73.943958\n",
      "585    67.131512\n",
      "587    58.334743\n",
      "588    52.944197\n",
      "Name: lat, Length: 370, dtype: float64\n"
     ]
    },
    {
     "data": {
      "image/png": "[encoded data removed]",
      "text/plain": [
       "<Figure size 432x288 with 1 Axes>"
      ]
     },
     "metadata": {
      "needs_background": "light"
     },
     "output_type": "display_data"
    }
   ],
   "source": [
    "x_values = northern_df['lat']\n",
    "y_values = northern_df['hum']\n",
    "plt.scatter(x_values,y_values)\n",
    "plt.title('Humidity vs. Latitude in the Northern Hemisphere 3/1/2019')\n",
    "plt.xlabel('Latitude')\n",
    "plt.ylabel('Humidity')\n",
    "lin_reg()\n",
    "plt.show()"
   ]
  },
  {
   "cell_type": "markdown",
   "metadata": {},
   "source": [
    "####  Southern Hemisphere - Humidity (%) vs. Latitude Linear Regression"
   ]
  },
  {
   "cell_type": "code",
   "execution_count": 110,
   "metadata": {},
   "outputs": [
    {
     "name": "stdout",
     "output_type": "stream",
     "text": [
      "The r-squared is: 0.2401002532773399\n",
      "y = 0.31x +81.84\n",
      "1      64.649631\n",
      "4      67.350838\n",
      "5      75.460735\n",
      "6      80.154122\n",
      "9      67.222209\n",
      "         ...    \n",
      "551    81.465509\n",
      "562    72.499132\n",
      "569    80.474125\n",
      "576    80.025493\n",
      "586    72.122657\n",
      "Name: lat, Length: 166, dtype: float64\n"
     ]
    },
    {
     "data": {
      "image/png": "[encoded data removed]",
      "text/plain": [
       "<Figure size 432x288 with 1 Axes>"
      ]
     },
     "metadata": {
      "needs_background": "light"
     },
     "output_type": "display_data"
    }
   ],
   "source": [
    "x_values = southern_df['lat']\n",
    "y_values = southern_df['hum']\n",
    "plt.scatter(x_values,y_values)\n",
    "plt.title('Humidity vs. Latitude in the Southern Hemisphere 3/1/2019')\n",
    "plt.xlabel('Latitude')\n",
    "plt.ylabel('Humidity')\n",
    "lin_reg()\n",
    "plt.show()"
   ]
  },
  {
   "cell_type": "markdown",
   "metadata": {},
   "source": [
    "####  Northern Hemisphere - Cloudiness (%) vs. Latitude Linear Regression"
   ]
  },
  {
   "cell_type": "code",
   "execution_count": 104,
   "metadata": {},
   "outputs": [
    {
     "name": "stdout",
     "output_type": "stream",
     "text": [
      "The r-squared is: 0.2545849468518637\n",
      "y = 0.46x +29.54\n",
      "0      36.401877\n",
      "2      58.929332\n",
      "3      29.859417\n",
      "7      31.818928\n",
      "10     58.970828\n",
      "         ...    \n",
      "583    33.437253\n",
      "584    54.586135\n",
      "585    46.655880\n",
      "587    36.415709\n",
      "588    30.140665\n",
      "Name: lat, Length: 370, dtype: float64\n"
     ]
    },
    {
     "data": {
      "image/png": "[encoded data removed]",
      "text/plain": [
       "<Figure size 432x288 with 1 Axes>"
      ]
     },
     "metadata": {
      "needs_background": "light"
     },
     "output_type": "display_data"
    }
   ],
   "source": [
    "x_values = northern_df['lat']\n",
    "y_values = northern_df['cloud']\n",
    "plt.scatter(x_values,y_values)\n",
    "plt.title('% Cloudiness vs. Latitude in the Northern Hemisphere 3/1/2019')\n",
    "plt.xlabel('Latitude')\n",
    "plt.ylabel('Cloudiness')\n",
    "lin_reg()\n",
    "plt.show()"
   ]
  },
  {
   "cell_type": "markdown",
   "metadata": {},
   "source": [
    "####  Southern Hemisphere - Cloudiness (%) vs. Latitude Linear Regression"
   ]
  },
  {
   "cell_type": "code",
   "execution_count": 105,
   "metadata": {},
   "outputs": [
    {
     "name": "stdout",
     "output_type": "stream",
     "text": [
      "The r-squared is: 0.2633476657659697\n",
      "y = 0.68x +71.24\n",
      "1      33.994907\n",
      "4      39.846238\n",
      "5      57.413822\n",
      "6      67.580595\n",
      "9      39.567603\n",
      "         ...    \n",
      "551    70.421311\n",
      "562    50.998426\n",
      "569    68.273784\n",
      "576    67.301960\n",
      "586    50.182909\n",
      "Name: lat, Length: 166, dtype: float64\n"
     ]
    },
    {
     "data": {
      "image/png": "[encoded data removed]",
      "text/plain": [
       "<Figure size 432x288 with 1 Axes>"
      ]
     },
     "metadata": {
      "needs_background": "light"
     },
     "output_type": "display_data"
    }
   ],
   "source": [
    "x_values = southern_df['lat']\n",
    "y_values = southern_df['cloud']\n",
    "plt.scatter(x_values,y_values)\n",
    "plt.title('% Cloudiness vs. Latitude in the Southern Hemisphere 3/1/2019')\n",
    "plt.xlabel('Latitude')\n",
    "plt.ylabel('Cloudiness')\n",
    "lin_reg()\n",
    "plt.show()"
   ]
  },
  {
   "cell_type": "markdown",
   "metadata": {},
   "source": [
    "####  Northern Hemisphere - Wind Speed (mph) vs. Latitude Linear Regression"
   ]
  },
  {
   "cell_type": "code",
   "execution_count": 108,
   "metadata": {},
   "outputs": [
    {
     "name": "stdout",
     "output_type": "stream",
     "text": [
      "The r-squared is: 0.23168557656758643\n",
      "y = 0.04x +2.9\n",
      "0      3.447886\n",
      "2      5.259240\n",
      "3      2.921830\n",
      "7      3.079387\n",
      "10     5.262576\n",
      "         ...   \n",
      "583    3.209511\n",
      "584    4.910018\n",
      "585    4.272375\n",
      "587    3.448998\n",
      "588    2.944444\n",
      "Name: lat, Length: 370, dtype: float64\n"
     ]
    },
    {
     "data": {
      "image/png": "[encoded data removed]",
      "text/plain": [
       "<Figure size 432x288 with 1 Axes>"
      ]
     },
     "metadata": {
      "needs_background": "light"
     },
     "output_type": "display_data"
    }
   ],
   "source": [
    "x_values = northern_df['lat']\n",
    "y_values = northern_df['wind']\n",
    "plt.scatter(x_values,y_values)\n",
    "plt.title('Wind Speed (mph) vs. Latitude in the Northern Hemisphere 3/1/2019')\n",
    "plt.xlabel('Latitude')\n",
    "plt.ylabel('Wind Speed (mph)')\n",
    "lin_reg()\n",
    "plt.show()"
   ]
  },
  {
   "cell_type": "markdown",
   "metadata": {},
   "source": [
    "####  Southern Hemisphere - Wind Speed (mph) vs. Latitude Linear Regression"
   ]
  },
  {
   "cell_type": "code",
   "execution_count": 109,
   "metadata": {},
   "outputs": [
    {
     "name": "stdout",
     "output_type": "stream",
     "text": [
      "The r-squared is: -0.24946492430656447\n",
      "y = -0.04x +2.73\n",
      "1      5.084372\n",
      "4      4.713764\n",
      "5      3.601079\n",
      "6      2.957142\n",
      "9      4.731412\n",
      "         ...   \n",
      "551    2.777218\n",
      "562    4.007413\n",
      "569    2.913237\n",
      "576    2.974790\n",
      "586    4.059066\n",
      "Name: lat, Length: 166, dtype: float64\n"
     ]
    },
    {
     "data": {
      "image/png": "[encoded data removed]",
      "text/plain": [
       "<Figure size 432x288 with 1 Axes>"
      ]
     },
     "metadata": {
      "needs_background": "light"
     },
     "output_type": "display_data"
    }
   ],
   "source": [
    "x_values = southern_df['lat']\n",
    "y_values = southern_df['wind']\n",
    "plt.scatter(x_values,y_values)\n",
    "plt.title('Wind Speed (mph) vs. Latitude in the Southern Hemisphere 3/1/2019')\n",
    "plt.xlabel('Latitude')\n",
    "plt.ylabel('Wind Speed (mph)')\n",
    "lin_reg()\n",
    "plt.show()"
   ]
  },
  {
   "cell_type": "code",
   "execution_count": null,
   "metadata": {},
   "outputs": [],
   "source": []
  }
 ],
 "metadata": {
  "anaconda-cloud": {},
  "kernel_info": {
   "name": "python3"
  },
  "kernelspec": {
   "display_name": "Python 3",
   "language": "python",
   "name": "python3"
  },
  "language_info": {
   "codemirror_mode": {
    "name": "ipython",
    "version": 3
   },
   "file_extension": ".py",
   "mimetype": "text/x-python",
   "name": "python",
   "nbconvert_exporter": "python",
   "pygments_lexer": "ipython3",
   "version": "3.7.4"
  },
  "latex_envs": {
   "LaTeX_envs_menu_present": true,
   "autoclose": false,
   "autocomplete": true,
   "bibliofile": "biblio.bib",
   "cite_by": "apalike",
   "current_citInitial": 1,
   "eqLabelWithNumbers": true,
   "eqNumInitial": 1,
   "hotkeys": {
    "equation": "Ctrl-E",
    "itemize": "Ctrl-I"
   },
   "labels_anchors": false,
   "latex_user_defs": false,
   "report_style_numbering": false,
   "user_envs_cfg": false
  },
  "nteract": {
   "version": "0.12.3"
  }
 },
 "nbformat": 4,
 "nbformat_minor": 2
}
